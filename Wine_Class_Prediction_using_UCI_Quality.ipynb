{
  "nbformat": 4,
  "nbformat_minor": 0,
  "metadata": {
    "colab": {
      "name": "Wine Class Prediction using UCI Quality.ipynb",
      "provenance": []
    },
    "kernelspec": {
      "name": "python3",
      "display_name": "Python 3"
    },
    "language_info": {
      "name": "python"
    }
  },
  "cells": [
    {
      "cell_type": "code",
      "metadata": {
        "colab": {
          "base_uri": "https://localhost:8080/"
        },
        "id": "AYYILvf3ZH9P",
        "outputId": "1ecb8417-af37-4f82-fa06-4b7942c42a9e"
      },
      "source": [
        "import tensorflow as tf\n",
        "from tensorflow.keras.models import Model\n",
        "from tensorflow.keras.layers import Dense,Input\n",
        "import numpy as np\n",
        "import pandas as pd\n",
        "import matplotlib.pyplot as plt\n",
        "from sklearn.model_selection import train_test_split\n",
        "from sklearn.metrics import confusion_matrix\n",
        "import itertools\n",
        "!pip install utils\n",
        "from utils import *"
      ],
      "execution_count": 1,
      "outputs": [
        {
          "output_type": "stream",
          "text": [
            "Requirement already satisfied: utils in /usr/local/lib/python3.7/dist-packages (1.0.1)\n"
          ],
          "name": "stdout"
        }
      ]
    },
    {
      "cell_type": "code",
      "metadata": {
        "id": "QeUcBDI7b9ld"
      },
      "source": [
        "URL = 'http://archive.ics.uci.edu/ml/machine-learning-databases/wine-quality/winequality-white.csv'"
      ],
      "execution_count": 2,
      "outputs": []
    },
    {
      "cell_type": "code",
      "metadata": {
        "id": "4SSnlWnicDYR",
        "colab": {
          "base_uri": "https://localhost:8080/",
          "height": 204
        },
        "outputId": "d32b914a-291c-420a-86c2-77bb5234be87"
      },
      "source": [
        "white_df=pd.read_csv(URL,sep=';')\n",
        "white_df['is_red']=0\n",
        "white_df = white_df.drop_duplicates(keep='first')\n",
        "white_df.head()"
      ],
      "execution_count": 3,
      "outputs": [
        {
          "output_type": "execute_result",
          "data": {
            "text/html": [
              "<div>\n",
              "<style scoped>\n",
              "    .dataframe tbody tr th:only-of-type {\n",
              "        vertical-align: middle;\n",
              "    }\n",
              "\n",
              "    .dataframe tbody tr th {\n",
              "        vertical-align: top;\n",
              "    }\n",
              "\n",
              "    .dataframe thead th {\n",
              "        text-align: right;\n",
              "    }\n",
              "</style>\n",
              "<table border=\"1\" class=\"dataframe\">\n",
              "  <thead>\n",
              "    <tr style=\"text-align: right;\">\n",
              "      <th></th>\n",
              "      <th>fixed acidity</th>\n",
              "      <th>volatile acidity</th>\n",
              "      <th>citric acid</th>\n",
              "      <th>residual sugar</th>\n",
              "      <th>chlorides</th>\n",
              "      <th>free sulfur dioxide</th>\n",
              "      <th>total sulfur dioxide</th>\n",
              "      <th>density</th>\n",
              "      <th>pH</th>\n",
              "      <th>sulphates</th>\n",
              "      <th>alcohol</th>\n",
              "      <th>quality</th>\n",
              "      <th>is_red</th>\n",
              "    </tr>\n",
              "  </thead>\n",
              "  <tbody>\n",
              "    <tr>\n",
              "      <th>0</th>\n",
              "      <td>7.0</td>\n",
              "      <td>0.27</td>\n",
              "      <td>0.36</td>\n",
              "      <td>20.7</td>\n",
              "      <td>0.045</td>\n",
              "      <td>45.0</td>\n",
              "      <td>170.0</td>\n",
              "      <td>1.0010</td>\n",
              "      <td>3.00</td>\n",
              "      <td>0.45</td>\n",
              "      <td>8.8</td>\n",
              "      <td>6</td>\n",
              "      <td>0</td>\n",
              "    </tr>\n",
              "    <tr>\n",
              "      <th>1</th>\n",
              "      <td>6.3</td>\n",
              "      <td>0.30</td>\n",
              "      <td>0.34</td>\n",
              "      <td>1.6</td>\n",
              "      <td>0.049</td>\n",
              "      <td>14.0</td>\n",
              "      <td>132.0</td>\n",
              "      <td>0.9940</td>\n",
              "      <td>3.30</td>\n",
              "      <td>0.49</td>\n",
              "      <td>9.5</td>\n",
              "      <td>6</td>\n",
              "      <td>0</td>\n",
              "    </tr>\n",
              "    <tr>\n",
              "      <th>2</th>\n",
              "      <td>8.1</td>\n",
              "      <td>0.28</td>\n",
              "      <td>0.40</td>\n",
              "      <td>6.9</td>\n",
              "      <td>0.050</td>\n",
              "      <td>30.0</td>\n",
              "      <td>97.0</td>\n",
              "      <td>0.9951</td>\n",
              "      <td>3.26</td>\n",
              "      <td>0.44</td>\n",
              "      <td>10.1</td>\n",
              "      <td>6</td>\n",
              "      <td>0</td>\n",
              "    </tr>\n",
              "    <tr>\n",
              "      <th>3</th>\n",
              "      <td>7.2</td>\n",
              "      <td>0.23</td>\n",
              "      <td>0.32</td>\n",
              "      <td>8.5</td>\n",
              "      <td>0.058</td>\n",
              "      <td>47.0</td>\n",
              "      <td>186.0</td>\n",
              "      <td>0.9956</td>\n",
              "      <td>3.19</td>\n",
              "      <td>0.40</td>\n",
              "      <td>9.9</td>\n",
              "      <td>6</td>\n",
              "      <td>0</td>\n",
              "    </tr>\n",
              "    <tr>\n",
              "      <th>6</th>\n",
              "      <td>6.2</td>\n",
              "      <td>0.32</td>\n",
              "      <td>0.16</td>\n",
              "      <td>7.0</td>\n",
              "      <td>0.045</td>\n",
              "      <td>30.0</td>\n",
              "      <td>136.0</td>\n",
              "      <td>0.9949</td>\n",
              "      <td>3.18</td>\n",
              "      <td>0.47</td>\n",
              "      <td>9.6</td>\n",
              "      <td>6</td>\n",
              "      <td>0</td>\n",
              "    </tr>\n",
              "  </tbody>\n",
              "</table>\n",
              "</div>"
            ],
            "text/plain": [
              "   fixed acidity  volatile acidity  citric acid  ...  alcohol  quality  is_red\n",
              "0            7.0              0.27         0.36  ...      8.8        6       0\n",
              "1            6.3              0.30         0.34  ...      9.5        6       0\n",
              "2            8.1              0.28         0.40  ...     10.1        6       0\n",
              "3            7.2              0.23         0.32  ...      9.9        6       0\n",
              "6            6.2              0.32         0.16  ...      9.6        6       0\n",
              "\n",
              "[5 rows x 13 columns]"
            ]
          },
          "metadata": {
            "tags": []
          },
          "execution_count": 3
        }
      ]
    },
    {
      "cell_type": "code",
      "metadata": {
        "colab": {
          "base_uri": "https://localhost:8080/"
        },
        "id": "6URVAXHndexB",
        "outputId": "d0f4463c-aba8-4e56-83d3-36f95309774b"
      },
      "source": [
        "print(white_df.alcohol[0])\n",
        "print(white_df.alcohol[100])"
      ],
      "execution_count": 4,
      "outputs": [
        {
          "output_type": "stream",
          "text": [
            "8.8\n",
            "9.1\n"
          ],
          "name": "stdout"
        }
      ]
    },
    {
      "cell_type": "code",
      "metadata": {
        "id": "zOnwUUNmdnPK"
      },
      "source": [
        "URL = 'http://archive.ics.uci.edu/ml/machine-learning-databases/wine-quality/winequality-red.csv'\n",
        "red_df=pd.read_csv(URL,sep=';')\n",
        "red_df['is_red']=1\n",
        "red_df=red_df.drop_duplicates(keep='first')"
      ],
      "execution_count": 5,
      "outputs": []
    },
    {
      "cell_type": "code",
      "metadata": {
        "colab": {
          "base_uri": "https://localhost:8080/"
        },
        "id": "1Ya9Rt2id7wR",
        "outputId": "cb57436c-59cc-4af6-f003-f0683057c6ae"
      },
      "source": [
        "print(red_df.alcohol[0])\n",
        "print(red_df.alcohol[100])"
      ],
      "execution_count": 6,
      "outputs": [
        {
          "output_type": "stream",
          "text": [
            "9.4\n",
            "10.2\n"
          ],
          "name": "stdout"
        }
      ]
    },
    {
      "cell_type": "code",
      "metadata": {
        "id": "wrmYEhO0d_p6"
      },
      "source": [
        "df=pd.concat([red_df,white_df],ignore_index=True)"
      ],
      "execution_count": 7,
      "outputs": []
    },
    {
      "cell_type": "code",
      "metadata": {
        "id": "gUJUjpp_eYOL"
      },
      "source": [
        "df = df.iloc[np.random.permutation(len(df))]"
      ],
      "execution_count": 8,
      "outputs": []
    },
    {
      "cell_type": "code",
      "metadata": {
        "colab": {
          "base_uri": "https://localhost:8080/",
          "height": 204
        },
        "id": "_CAnuZ1xeiwp",
        "outputId": "916f73eb-4b92-4f98-fe6a-0ad58badd48b"
      },
      "source": [
        "df.head()"
      ],
      "execution_count": 9,
      "outputs": [
        {
          "output_type": "execute_result",
          "data": {
            "text/html": [
              "<div>\n",
              "<style scoped>\n",
              "    .dataframe tbody tr th:only-of-type {\n",
              "        vertical-align: middle;\n",
              "    }\n",
              "\n",
              "    .dataframe tbody tr th {\n",
              "        vertical-align: top;\n",
              "    }\n",
              "\n",
              "    .dataframe thead th {\n",
              "        text-align: right;\n",
              "    }\n",
              "</style>\n",
              "<table border=\"1\" class=\"dataframe\">\n",
              "  <thead>\n",
              "    <tr style=\"text-align: right;\">\n",
              "      <th></th>\n",
              "      <th>fixed acidity</th>\n",
              "      <th>volatile acidity</th>\n",
              "      <th>citric acid</th>\n",
              "      <th>residual sugar</th>\n",
              "      <th>chlorides</th>\n",
              "      <th>free sulfur dioxide</th>\n",
              "      <th>total sulfur dioxide</th>\n",
              "      <th>density</th>\n",
              "      <th>pH</th>\n",
              "      <th>sulphates</th>\n",
              "      <th>alcohol</th>\n",
              "      <th>quality</th>\n",
              "      <th>is_red</th>\n",
              "    </tr>\n",
              "  </thead>\n",
              "  <tbody>\n",
              "    <tr>\n",
              "      <th>722</th>\n",
              "      <td>6.7</td>\n",
              "      <td>0.28</td>\n",
              "      <td>0.28</td>\n",
              "      <td>2.40</td>\n",
              "      <td>0.012</td>\n",
              "      <td>36.0</td>\n",
              "      <td>100.0</td>\n",
              "      <td>0.99064</td>\n",
              "      <td>3.26</td>\n",
              "      <td>0.39</td>\n",
              "      <td>11.7</td>\n",
              "      <td>7</td>\n",
              "      <td>1</td>\n",
              "    </tr>\n",
              "    <tr>\n",
              "      <th>4624</th>\n",
              "      <td>7.2</td>\n",
              "      <td>0.17</td>\n",
              "      <td>0.28</td>\n",
              "      <td>17.55</td>\n",
              "      <td>0.050</td>\n",
              "      <td>33.0</td>\n",
              "      <td>154.0</td>\n",
              "      <td>0.99971</td>\n",
              "      <td>2.94</td>\n",
              "      <td>0.43</td>\n",
              "      <td>9.0</td>\n",
              "      <td>7</td>\n",
              "      <td>0</td>\n",
              "    </tr>\n",
              "    <tr>\n",
              "      <th>1339</th>\n",
              "      <td>6.2</td>\n",
              "      <td>0.70</td>\n",
              "      <td>0.15</td>\n",
              "      <td>5.10</td>\n",
              "      <td>0.076</td>\n",
              "      <td>13.0</td>\n",
              "      <td>27.0</td>\n",
              "      <td>0.99622</td>\n",
              "      <td>3.54</td>\n",
              "      <td>0.60</td>\n",
              "      <td>11.9</td>\n",
              "      <td>6</td>\n",
              "      <td>1</td>\n",
              "    </tr>\n",
              "    <tr>\n",
              "      <th>2697</th>\n",
              "      <td>9.3</td>\n",
              "      <td>0.31</td>\n",
              "      <td>0.49</td>\n",
              "      <td>1.30</td>\n",
              "      <td>0.042</td>\n",
              "      <td>34.0</td>\n",
              "      <td>147.0</td>\n",
              "      <td>0.99480</td>\n",
              "      <td>3.11</td>\n",
              "      <td>0.46</td>\n",
              "      <td>9.8</td>\n",
              "      <td>5</td>\n",
              "      <td>0</td>\n",
              "    </tr>\n",
              "    <tr>\n",
              "      <th>2030</th>\n",
              "      <td>6.0</td>\n",
              "      <td>0.18</td>\n",
              "      <td>0.31</td>\n",
              "      <td>1.40</td>\n",
              "      <td>0.036</td>\n",
              "      <td>14.0</td>\n",
              "      <td>75.0</td>\n",
              "      <td>0.99085</td>\n",
              "      <td>3.34</td>\n",
              "      <td>0.58</td>\n",
              "      <td>11.1</td>\n",
              "      <td>8</td>\n",
              "      <td>0</td>\n",
              "    </tr>\n",
              "  </tbody>\n",
              "</table>\n",
              "</div>"
            ],
            "text/plain": [
              "      fixed acidity  volatile acidity  citric acid  ...  alcohol  quality  is_red\n",
              "722             6.7              0.28         0.28  ...     11.7        7       1\n",
              "4624            7.2              0.17         0.28  ...      9.0        7       0\n",
              "1339            6.2              0.70         0.15  ...     11.9        6       1\n",
              "2697            9.3              0.31         0.49  ...      9.8        5       0\n",
              "2030            6.0              0.18         0.31  ...     11.1        8       0\n",
              "\n",
              "[5 rows x 13 columns]"
            ]
          },
          "metadata": {
            "tags": []
          },
          "execution_count": 9
        }
      ]
    },
    {
      "cell_type": "code",
      "metadata": {
        "colab": {
          "base_uri": "https://localhost:8080/",
          "height": 296
        },
        "id": "tqBntdPuekUA",
        "outputId": "488936d6-041a-43c0-c957-470d77bdbb9e"
      },
      "source": [
        "df.describe()"
      ],
      "execution_count": 10,
      "outputs": [
        {
          "output_type": "execute_result",
          "data": {
            "text/html": [
              "<div>\n",
              "<style scoped>\n",
              "    .dataframe tbody tr th:only-of-type {\n",
              "        vertical-align: middle;\n",
              "    }\n",
              "\n",
              "    .dataframe tbody tr th {\n",
              "        vertical-align: top;\n",
              "    }\n",
              "\n",
              "    .dataframe thead th {\n",
              "        text-align: right;\n",
              "    }\n",
              "</style>\n",
              "<table border=\"1\" class=\"dataframe\">\n",
              "  <thead>\n",
              "    <tr style=\"text-align: right;\">\n",
              "      <th></th>\n",
              "      <th>fixed acidity</th>\n",
              "      <th>volatile acidity</th>\n",
              "      <th>citric acid</th>\n",
              "      <th>residual sugar</th>\n",
              "      <th>chlorides</th>\n",
              "      <th>free sulfur dioxide</th>\n",
              "      <th>total sulfur dioxide</th>\n",
              "      <th>density</th>\n",
              "      <th>pH</th>\n",
              "      <th>sulphates</th>\n",
              "      <th>alcohol</th>\n",
              "      <th>quality</th>\n",
              "      <th>is_red</th>\n",
              "    </tr>\n",
              "  </thead>\n",
              "  <tbody>\n",
              "    <tr>\n",
              "      <th>count</th>\n",
              "      <td>5320.000000</td>\n",
              "      <td>5320.000000</td>\n",
              "      <td>5320.000000</td>\n",
              "      <td>5320.000000</td>\n",
              "      <td>5320.000000</td>\n",
              "      <td>5320.000000</td>\n",
              "      <td>5320.000000</td>\n",
              "      <td>5320.000000</td>\n",
              "      <td>5320.000000</td>\n",
              "      <td>5320.000000</td>\n",
              "      <td>5320.000000</td>\n",
              "      <td>5320.000000</td>\n",
              "      <td>5320.000000</td>\n",
              "    </tr>\n",
              "    <tr>\n",
              "      <th>mean</th>\n",
              "      <td>7.215179</td>\n",
              "      <td>0.344130</td>\n",
              "      <td>0.318494</td>\n",
              "      <td>5.048477</td>\n",
              "      <td>0.056690</td>\n",
              "      <td>30.036654</td>\n",
              "      <td>114.109023</td>\n",
              "      <td>0.994535</td>\n",
              "      <td>3.224664</td>\n",
              "      <td>0.533357</td>\n",
              "      <td>10.549241</td>\n",
              "      <td>5.795677</td>\n",
              "      <td>0.255451</td>\n",
              "    </tr>\n",
              "    <tr>\n",
              "      <th>std</th>\n",
              "      <td>1.319671</td>\n",
              "      <td>0.168248</td>\n",
              "      <td>0.147157</td>\n",
              "      <td>4.500180</td>\n",
              "      <td>0.036863</td>\n",
              "      <td>17.805045</td>\n",
              "      <td>56.774223</td>\n",
              "      <td>0.002966</td>\n",
              "      <td>0.160379</td>\n",
              "      <td>0.149743</td>\n",
              "      <td>1.185933</td>\n",
              "      <td>0.879772</td>\n",
              "      <td>0.436155</td>\n",
              "    </tr>\n",
              "    <tr>\n",
              "      <th>min</th>\n",
              "      <td>3.800000</td>\n",
              "      <td>0.080000</td>\n",
              "      <td>0.000000</td>\n",
              "      <td>0.600000</td>\n",
              "      <td>0.009000</td>\n",
              "      <td>1.000000</td>\n",
              "      <td>6.000000</td>\n",
              "      <td>0.987110</td>\n",
              "      <td>2.720000</td>\n",
              "      <td>0.220000</td>\n",
              "      <td>8.000000</td>\n",
              "      <td>3.000000</td>\n",
              "      <td>0.000000</td>\n",
              "    </tr>\n",
              "    <tr>\n",
              "      <th>25%</th>\n",
              "      <td>6.400000</td>\n",
              "      <td>0.230000</td>\n",
              "      <td>0.240000</td>\n",
              "      <td>1.800000</td>\n",
              "      <td>0.038000</td>\n",
              "      <td>16.000000</td>\n",
              "      <td>74.000000</td>\n",
              "      <td>0.992200</td>\n",
              "      <td>3.110000</td>\n",
              "      <td>0.430000</td>\n",
              "      <td>9.500000</td>\n",
              "      <td>5.000000</td>\n",
              "      <td>0.000000</td>\n",
              "    </tr>\n",
              "    <tr>\n",
              "      <th>50%</th>\n",
              "      <td>7.000000</td>\n",
              "      <td>0.300000</td>\n",
              "      <td>0.310000</td>\n",
              "      <td>2.700000</td>\n",
              "      <td>0.047000</td>\n",
              "      <td>28.000000</td>\n",
              "      <td>116.000000</td>\n",
              "      <td>0.994650</td>\n",
              "      <td>3.210000</td>\n",
              "      <td>0.510000</td>\n",
              "      <td>10.400000</td>\n",
              "      <td>6.000000</td>\n",
              "      <td>0.000000</td>\n",
              "    </tr>\n",
              "    <tr>\n",
              "      <th>75%</th>\n",
              "      <td>7.700000</td>\n",
              "      <td>0.410000</td>\n",
              "      <td>0.400000</td>\n",
              "      <td>7.500000</td>\n",
              "      <td>0.066000</td>\n",
              "      <td>41.000000</td>\n",
              "      <td>153.250000</td>\n",
              "      <td>0.996770</td>\n",
              "      <td>3.330000</td>\n",
              "      <td>0.600000</td>\n",
              "      <td>11.400000</td>\n",
              "      <td>6.000000</td>\n",
              "      <td>1.000000</td>\n",
              "    </tr>\n",
              "    <tr>\n",
              "      <th>max</th>\n",
              "      <td>15.900000</td>\n",
              "      <td>1.580000</td>\n",
              "      <td>1.660000</td>\n",
              "      <td>65.800000</td>\n",
              "      <td>0.611000</td>\n",
              "      <td>289.000000</td>\n",
              "      <td>440.000000</td>\n",
              "      <td>1.038980</td>\n",
              "      <td>4.010000</td>\n",
              "      <td>2.000000</td>\n",
              "      <td>14.900000</td>\n",
              "      <td>9.000000</td>\n",
              "      <td>1.000000</td>\n",
              "    </tr>\n",
              "  </tbody>\n",
              "</table>\n",
              "</div>"
            ],
            "text/plain": [
              "       fixed acidity  volatile acidity  ...      quality       is_red\n",
              "count    5320.000000       5320.000000  ...  5320.000000  5320.000000\n",
              "mean        7.215179          0.344130  ...     5.795677     0.255451\n",
              "std         1.319671          0.168248  ...     0.879772     0.436155\n",
              "min         3.800000          0.080000  ...     3.000000     0.000000\n",
              "25%         6.400000          0.230000  ...     5.000000     0.000000\n",
              "50%         7.000000          0.300000  ...     6.000000     0.000000\n",
              "75%         7.700000          0.410000  ...     6.000000     1.000000\n",
              "max        15.900000          1.580000  ...     9.000000     1.000000\n",
              "\n",
              "[8 rows x 13 columns]"
            ]
          },
          "metadata": {
            "tags": []
          },
          "execution_count": 10
        }
      ]
    },
    {
      "cell_type": "code",
      "metadata": {
        "colab": {
          "base_uri": "https://localhost:8080/"
        },
        "id": "yV3HldBkesEZ",
        "outputId": "ea2f14f9-e818-4ed2-c34e-58621dc3f209"
      },
      "source": [
        "df.info()"
      ],
      "execution_count": 11,
      "outputs": [
        {
          "output_type": "stream",
          "text": [
            "<class 'pandas.core.frame.DataFrame'>\n",
            "Int64Index: 5320 entries, 722 to 690\n",
            "Data columns (total 13 columns):\n",
            " #   Column                Non-Null Count  Dtype  \n",
            "---  ------                --------------  -----  \n",
            " 0   fixed acidity         5320 non-null   float64\n",
            " 1   volatile acidity      5320 non-null   float64\n",
            " 2   citric acid           5320 non-null   float64\n",
            " 3   residual sugar        5320 non-null   float64\n",
            " 4   chlorides             5320 non-null   float64\n",
            " 5   free sulfur dioxide   5320 non-null   float64\n",
            " 6   total sulfur dioxide  5320 non-null   float64\n",
            " 7   density               5320 non-null   float64\n",
            " 8   pH                    5320 non-null   float64\n",
            " 9   sulphates             5320 non-null   float64\n",
            " 10  alcohol               5320 non-null   float64\n",
            " 11  quality               5320 non-null   int64  \n",
            " 12  is_red                5320 non-null   int64  \n",
            "dtypes: float64(11), int64(2)\n",
            "memory usage: 581.9 KB\n"
          ],
          "name": "stdout"
        }
      ]
    },
    {
      "cell_type": "code",
      "metadata": {
        "colab": {
          "base_uri": "https://localhost:8080/",
          "height": 265
        },
        "id": "PJJB8tQ6euDN",
        "outputId": "58d7a9fe-6d1c-49ed-ceb9-50a18a0ee141"
      },
      "source": [
        "df['quality'].hist(bins=20);"
      ],
      "execution_count": 12,
      "outputs": [
        {
          "output_type": "display_data",
          "data": {
            "image/png": "[encoded data removed]",
            "text/plain": [
              "<Figure size 432x288 with 1 Axes>"
            ]
          },
          "metadata": {
            "tags": [],
            "needs_background": "light"
          }
        }
      ]
    },
    {
      "cell_type": "code",
      "metadata": {
        "id": "V23yorTweyvY"
      },
      "source": [
        "df=df[(df['quality'] > 4) & (df['quality'] < 8)]"
      ],
      "execution_count": 13,
      "outputs": []
    },
    {
      "cell_type": "code",
      "metadata": {
        "id": "uINL0eOJfJjH"
      },
      "source": [
        "df=df.reset_index(drop=True)"
      ],
      "execution_count": 14,
      "outputs": []
    },
    {
      "cell_type": "code",
      "metadata": {
        "colab": {
          "base_uri": "https://localhost:8080/",
          "height": 265
        },
        "id": "hB0fbvVYfNsc",
        "outputId": "15948327-55af-40cd-ae0a-64e7164e646c"
      },
      "source": [
        "df['quality'].hist(bins=30);"
      ],
      "execution_count": 15,
      "outputs": [
        {
          "output_type": "display_data",
          "data": {
            "image/png": "[encoded data removed]",
            "text/plain": [
              "<Figure size 432x288 with 1 Axes>"
            ]
          },
          "metadata": {
            "tags": [],
            "needs_background": "light"
          }
        }
      ]
    },
    {
      "cell_type": "code",
      "metadata": {
        "id": "TF_Hny5FfRna"
      },
      "source": [
        "train,test=train_test_split(df,test_size=0.2,random_state=101)"
      ],
      "execution_count": 16,
      "outputs": []
    },
    {
      "cell_type": "code",
      "metadata": {
        "id": "MmuRGjCw6TO_"
      },
      "source": [
        "train,val=train_test_split(df,test_size=0.25,random_state=101)"
      ],
      "execution_count": 17,
      "outputs": []
    },
    {
      "cell_type": "code",
      "metadata": {
        "colab": {
          "base_uri": "https://localhost:8080/"
        },
        "id": "A1lqHeG8q_eN",
        "outputId": "3d551137-154a-4a31-e6f2-bac15d7f722d"
      },
      "source": [
        "train_stats=train.describe()\n",
        "train_stats.pop('quality')\n",
        "train_stats.pop('is_red')"
      ],
      "execution_count": 18,
      "outputs": [
        {
          "output_type": "execute_result",
          "data": {
            "text/plain": [
              "count    3698.000000\n",
              "mean        0.258518\n",
              "std         0.437879\n",
              "min         0.000000\n",
              "25%         0.000000\n",
              "50%         0.000000\n",
              "75%         1.000000\n",
              "max         1.000000\n",
              "Name: is_red, dtype: float64"
            ]
          },
          "metadata": {
            "tags": []
          },
          "execution_count": 18
        }
      ]
    },
    {
      "cell_type": "code",
      "metadata": {
        "id": "9fgIonrfsBdw"
      },
      "source": [
        "train_stats=train_stats.transpose()"
      ],
      "execution_count": 19,
      "outputs": []
    },
    {
      "cell_type": "code",
      "metadata": {
        "colab": {
          "base_uri": "https://localhost:8080/",
          "height": 388
        },
        "id": "s_ATdxTXsUJQ",
        "outputId": "ce04cefe-a7f0-4af8-c28c-c05bb885bfff"
      },
      "source": [
        "train_stats"
      ],
      "execution_count": 20,
      "outputs": [
        {
          "output_type": "execute_result",
          "data": {
            "text/html": [
              "<div>\n",
              "<style scoped>\n",
              "    .dataframe tbody tr th:only-of-type {\n",
              "        vertical-align: middle;\n",
              "    }\n",
              "\n",
              "    .dataframe tbody tr th {\n",
              "        vertical-align: top;\n",
              "    }\n",
              "\n",
              "    .dataframe thead th {\n",
              "        text-align: right;\n",
              "    }\n",
              "</style>\n",
              "<table border=\"1\" class=\"dataframe\">\n",
              "  <thead>\n",
              "    <tr style=\"text-align: right;\">\n",
              "      <th></th>\n",
              "      <th>count</th>\n",
              "      <th>mean</th>\n",
              "      <th>std</th>\n",
              "      <th>min</th>\n",
              "      <th>25%</th>\n",
              "      <th>50%</th>\n",
              "      <th>75%</th>\n",
              "      <th>max</th>\n",
              "    </tr>\n",
              "  </thead>\n",
              "  <tbody>\n",
              "    <tr>\n",
              "      <th>fixed acidity</th>\n",
              "      <td>3698.0</td>\n",
              "      <td>7.215279</td>\n",
              "      <td>1.322759</td>\n",
              "      <td>3.80000</td>\n",
              "      <td>6.400000</td>\n",
              "      <td>7.00000</td>\n",
              "      <td>7.700000</td>\n",
              "      <td>15.90000</td>\n",
              "    </tr>\n",
              "    <tr>\n",
              "      <th>volatile acidity</th>\n",
              "      <td>3698.0</td>\n",
              "      <td>0.339738</td>\n",
              "      <td>0.163460</td>\n",
              "      <td>0.08000</td>\n",
              "      <td>0.230000</td>\n",
              "      <td>0.29000</td>\n",
              "      <td>0.400000</td>\n",
              "      <td>1.33000</td>\n",
              "    </tr>\n",
              "    <tr>\n",
              "      <th>citric acid</th>\n",
              "      <td>3698.0</td>\n",
              "      <td>0.319018</td>\n",
              "      <td>0.144101</td>\n",
              "      <td>0.00000</td>\n",
              "      <td>0.250000</td>\n",
              "      <td>0.31000</td>\n",
              "      <td>0.400000</td>\n",
              "      <td>1.23000</td>\n",
              "    </tr>\n",
              "    <tr>\n",
              "      <th>residual sugar</th>\n",
              "      <td>3698.0</td>\n",
              "      <td>5.113115</td>\n",
              "      <td>4.576129</td>\n",
              "      <td>0.60000</td>\n",
              "      <td>1.800000</td>\n",
              "      <td>2.80000</td>\n",
              "      <td>7.600000</td>\n",
              "      <td>65.80000</td>\n",
              "    </tr>\n",
              "    <tr>\n",
              "      <th>chlorides</th>\n",
              "      <td>3698.0</td>\n",
              "      <td>0.056458</td>\n",
              "      <td>0.034417</td>\n",
              "      <td>0.00900</td>\n",
              "      <td>0.038000</td>\n",
              "      <td>0.04700</td>\n",
              "      <td>0.067000</td>\n",
              "      <td>0.61100</td>\n",
              "    </tr>\n",
              "    <tr>\n",
              "      <th>free sulfur dioxide</th>\n",
              "      <td>3698.0</td>\n",
              "      <td>30.272715</td>\n",
              "      <td>17.132061</td>\n",
              "      <td>1.00000</td>\n",
              "      <td>17.000000</td>\n",
              "      <td>28.00000</td>\n",
              "      <td>41.000000</td>\n",
              "      <td>131.00000</td>\n",
              "    </tr>\n",
              "    <tr>\n",
              "      <th>total sulfur dioxide</th>\n",
              "      <td>3698.0</td>\n",
              "      <td>114.894267</td>\n",
              "      <td>56.838195</td>\n",
              "      <td>6.00000</td>\n",
              "      <td>76.000000</td>\n",
              "      <td>117.00000</td>\n",
              "      <td>155.000000</td>\n",
              "      <td>344.00000</td>\n",
              "    </tr>\n",
              "    <tr>\n",
              "      <th>density</th>\n",
              "      <td>3698.0</td>\n",
              "      <td>0.994575</td>\n",
              "      <td>0.002995</td>\n",
              "      <td>0.98711</td>\n",
              "      <td>0.992223</td>\n",
              "      <td>0.99471</td>\n",
              "      <td>0.996800</td>\n",
              "      <td>1.03898</td>\n",
              "    </tr>\n",
              "    <tr>\n",
              "      <th>pH</th>\n",
              "      <td>3698.0</td>\n",
              "      <td>3.223826</td>\n",
              "      <td>0.158419</td>\n",
              "      <td>2.72000</td>\n",
              "      <td>3.110000</td>\n",
              "      <td>3.21000</td>\n",
              "      <td>3.327500</td>\n",
              "      <td>4.01000</td>\n",
              "    </tr>\n",
              "    <tr>\n",
              "      <th>sulphates</th>\n",
              "      <td>3698.0</td>\n",
              "      <td>0.534129</td>\n",
              "      <td>0.143877</td>\n",
              "      <td>0.22000</td>\n",
              "      <td>0.440000</td>\n",
              "      <td>0.51000</td>\n",
              "      <td>0.600000</td>\n",
              "      <td>1.95000</td>\n",
              "    </tr>\n",
              "    <tr>\n",
              "      <th>alcohol</th>\n",
              "      <td>3698.0</td>\n",
              "      <td>10.533625</td>\n",
              "      <td>1.183690</td>\n",
              "      <td>8.00000</td>\n",
              "      <td>9.500000</td>\n",
              "      <td>10.40000</td>\n",
              "      <td>11.345833</td>\n",
              "      <td>14.90000</td>\n",
              "    </tr>\n",
              "  </tbody>\n",
              "</table>\n",
              "</div>"
            ],
            "text/plain": [
              "                       count        mean  ...         75%        max\n",
              "fixed acidity         3698.0    7.215279  ...    7.700000   15.90000\n",
              "volatile acidity      3698.0    0.339738  ...    0.400000    1.33000\n",
              "citric acid           3698.0    0.319018  ...    0.400000    1.23000\n",
              "residual sugar        3698.0    5.113115  ...    7.600000   65.80000\n",
              "chlorides             3698.0    0.056458  ...    0.067000    0.61100\n",
              "free sulfur dioxide   3698.0   30.272715  ...   41.000000  131.00000\n",
              "total sulfur dioxide  3698.0  114.894267  ...  155.000000  344.00000\n",
              "density               3698.0    0.994575  ...    0.996800    1.03898\n",
              "pH                    3698.0    3.223826  ...    3.327500    4.01000\n",
              "sulphates             3698.0    0.534129  ...    0.600000    1.95000\n",
              "alcohol               3698.0   10.533625  ...   11.345833   14.90000\n",
              "\n",
              "[11 rows x 8 columns]"
            ]
          },
          "metadata": {
            "tags": []
          },
          "execution_count": 20
        }
      ]
    },
    {
      "cell_type": "code",
      "metadata": {
        "id": "pzQaF9T4sa-s"
      },
      "source": [
        "def format_data(data):\n",
        "  is_red=data.pop('is_red')\n",
        "  is_red=np.array(is_red)\n",
        "  quality=data.pop('quality')\n",
        "  quality=np.array(quality)\n",
        "  return (quality,is_red)"
      ],
      "execution_count": 21,
      "outputs": []
    },
    {
      "cell_type": "code",
      "metadata": {
        "id": "kd2fgRxvdo0P"
      },
      "source": [
        "train_Y = format_data(train)\n",
        "val_Y = format_data(val)\n",
        "test_Y = format_data(test)"
      ],
      "execution_count": 22,
      "outputs": []
    },
    {
      "cell_type": "code",
      "metadata": {
        "colab": {
          "base_uri": "https://localhost:8080/",
          "height": 204
        },
        "id": "4ryOg_Fed1nA",
        "outputId": "cb41173d-e5c9-4f2f-ca27-cdae65fc6fe7"
      },
      "source": [
        "train.head()"
      ],
      "execution_count": 23,
      "outputs": [
        {
          "output_type": "execute_result",
          "data": {
            "text/html": [
              "<div>\n",
              "<style scoped>\n",
              "    .dataframe tbody tr th:only-of-type {\n",
              "        vertical-align: middle;\n",
              "    }\n",
              "\n",
              "    .dataframe tbody tr th {\n",
              "        vertical-align: top;\n",
              "    }\n",
              "\n",
              "    .dataframe thead th {\n",
              "        text-align: right;\n",
              "    }\n",
              "</style>\n",
              "<table border=\"1\" class=\"dataframe\">\n",
              "  <thead>\n",
              "    <tr style=\"text-align: right;\">\n",
              "      <th></th>\n",
              "      <th>fixed acidity</th>\n",
              "      <th>volatile acidity</th>\n",
              "      <th>citric acid</th>\n",
              "      <th>residual sugar</th>\n",
              "      <th>chlorides</th>\n",
              "      <th>free sulfur dioxide</th>\n",
              "      <th>total sulfur dioxide</th>\n",
              "      <th>density</th>\n",
              "      <th>pH</th>\n",
              "      <th>sulphates</th>\n",
              "      <th>alcohol</th>\n",
              "    </tr>\n",
              "  </thead>\n",
              "  <tbody>\n",
              "    <tr>\n",
              "      <th>3537</th>\n",
              "      <td>6.4</td>\n",
              "      <td>0.16</td>\n",
              "      <td>0.31</td>\n",
              "      <td>5.3</td>\n",
              "      <td>0.043</td>\n",
              "      <td>42.0</td>\n",
              "      <td>157.0</td>\n",
              "      <td>0.99455</td>\n",
              "      <td>3.35</td>\n",
              "      <td>0.47</td>\n",
              "      <td>10.5</td>\n",
              "    </tr>\n",
              "    <tr>\n",
              "      <th>3908</th>\n",
              "      <td>5.9</td>\n",
              "      <td>0.19</td>\n",
              "      <td>0.21</td>\n",
              "      <td>1.7</td>\n",
              "      <td>0.045</td>\n",
              "      <td>57.0</td>\n",
              "      <td>135.0</td>\n",
              "      <td>0.99341</td>\n",
              "      <td>3.32</td>\n",
              "      <td>0.44</td>\n",
              "      <td>9.5</td>\n",
              "    </tr>\n",
              "    <tr>\n",
              "      <th>3091</th>\n",
              "      <td>5.2</td>\n",
              "      <td>0.28</td>\n",
              "      <td>0.29</td>\n",
              "      <td>1.1</td>\n",
              "      <td>0.028</td>\n",
              "      <td>18.0</td>\n",
              "      <td>69.0</td>\n",
              "      <td>0.99168</td>\n",
              "      <td>3.24</td>\n",
              "      <td>0.54</td>\n",
              "      <td>10.0</td>\n",
              "    </tr>\n",
              "    <tr>\n",
              "      <th>4325</th>\n",
              "      <td>7.9</td>\n",
              "      <td>0.14</td>\n",
              "      <td>0.28</td>\n",
              "      <td>1.8</td>\n",
              "      <td>0.041</td>\n",
              "      <td>44.0</td>\n",
              "      <td>178.0</td>\n",
              "      <td>0.99540</td>\n",
              "      <td>3.45</td>\n",
              "      <td>0.43</td>\n",
              "      <td>9.2</td>\n",
              "    </tr>\n",
              "    <tr>\n",
              "      <th>3099</th>\n",
              "      <td>7.6</td>\n",
              "      <td>0.13</td>\n",
              "      <td>0.34</td>\n",
              "      <td>9.3</td>\n",
              "      <td>0.062</td>\n",
              "      <td>40.0</td>\n",
              "      <td>126.0</td>\n",
              "      <td>0.99660</td>\n",
              "      <td>3.21</td>\n",
              "      <td>0.39</td>\n",
              "      <td>9.6</td>\n",
              "    </tr>\n",
              "  </tbody>\n",
              "</table>\n",
              "</div>"
            ],
            "text/plain": [
              "      fixed acidity  volatile acidity  citric acid  ...    pH  sulphates  alcohol\n",
              "3537            6.4              0.16         0.31  ...  3.35       0.47     10.5\n",
              "3908            5.9              0.19         0.21  ...  3.32       0.44      9.5\n",
              "3091            5.2              0.28         0.29  ...  3.24       0.54     10.0\n",
              "4325            7.9              0.14         0.28  ...  3.45       0.43      9.2\n",
              "3099            7.6              0.13         0.34  ...  3.21       0.39      9.6\n",
              "\n",
              "[5 rows x 11 columns]"
            ]
          },
          "metadata": {
            "tags": []
          },
          "execution_count": 23
        }
      ]
    },
    {
      "cell_type": "code",
      "metadata": {
        "id": "f2ZtktxAd-Yc"
      },
      "source": [
        "def normalize(x):\n",
        "  x=x-train_stats['mean']/train_stats['std']\n",
        "  return x"
      ],
      "execution_count": 24,
      "outputs": []
    },
    {
      "cell_type": "code",
      "metadata": {
        "id": "CU8NzcwCep9_"
      },
      "source": [
        "train_x=normalize(train)\n",
        "test_x=normalize(test)\n",
        "val_x=normalize(val)"
      ],
      "execution_count": 25,
      "outputs": []
    },
    {
      "cell_type": "code",
      "metadata": {
        "id": "eRYWJf-aezwt"
      },
      "source": [
        "def base_model(inputs):\n",
        "  x=Dense(128,activation='relu')(inputs)\n",
        "  x=Dense(128,activation='relu')(x)\n",
        "  return x"
      ],
      "execution_count": 26,
      "outputs": []
    },
    {
      "cell_type": "code",
      "metadata": {
        "id": "zhYSlZGIgIPi"
      },
      "source": [
        "def final_model(inputs):\n",
        "    x = base_model(inputs)\n",
        "    wine_quality = Dense(units='1', name='wine_quality')(x)\n",
        "    wine_type = Dense(units='1', activation= 'sigmoid', name='wine_type')(x)\n",
        "    model = Model(inputs= inputs, outputs = [wine_quality, wine_type])\n",
        "    return model"
      ],
      "execution_count": 40,
      "outputs": []
    },
    {
      "cell_type": "code",
      "metadata": {
        "id": "Ilh-J5SIg8dy"
      },
      "source": [
        "inputs=tf.keras.Input(shape=(11,))\n",
        "rms=tf.keras.optimizers.RMSprop(learning_rate=0.0001)\n",
        "model=final_model(inputs)\n",
        "model.compile(optimizer=rms, \n",
        "              loss = {'wine_type' : 'binary_crossentropy',\n",
        "                      'wine_quality' : 'mse'\n",
        "                     },\n",
        "              metrics = {'wine_type' : 'accuracy',\n",
        "                         'wine_quality': tf.keras.metrics.RootMeanSquaredError(), \n",
        "                       }\n",
        "             )"
      ],
      "execution_count": 41,
      "outputs": []
    },
    {
      "cell_type": "code",
      "metadata": {
        "colab": {
          "base_uri": "https://localhost:8080/"
        },
        "id": "NGh8kMtnhnRo",
        "outputId": "7641c8bb-a5c5-4f7e-e725-601d29ce1621"
      },
      "source": [
        "history = model.fit(train_x, train_Y,epochs = 180, validation_data=(val_x, val_Y))"
      ],
      "execution_count": 42,
      "outputs": [
        {
          "output_type": "stream",
          "text": [
            "Epoch 1/180\n",
            "116/116 [==============================] - 1s 4ms/step - loss: 3.3659 - wine_quality_loss: 2.5814 - wine_type_loss: 0.7844 - wine_quality_root_mean_squared_error: 1.6067 - wine_type_accuracy: 0.7493 - val_loss: 1.5804 - val_wine_quality_loss: 1.3423 - val_wine_type_loss: 0.2381 - val_wine_quality_root_mean_squared_error: 1.1586 - val_wine_type_accuracy: 0.9157\n",
            "Epoch 2/180\n",
            "116/116 [==============================] - 0s 3ms/step - loss: 2.0842 - wine_quality_loss: 1.8444 - wine_type_loss: 0.2398 - wine_quality_root_mean_squared_error: 1.3581 - wine_type_accuracy: 0.9197 - val_loss: 0.9926 - val_wine_quality_loss: 0.7785 - val_wine_type_loss: 0.2142 - val_wine_quality_root_mean_squared_error: 0.8823 - val_wine_type_accuracy: 0.9246\n",
            "Epoch 3/180\n",
            "116/116 [==============================] - 0s 2ms/step - loss: 1.8569 - wine_quality_loss: 1.6261 - wine_type_loss: 0.2309 - wine_quality_root_mean_squared_error: 1.2752 - wine_type_accuracy: 0.9194 - val_loss: 1.8333 - val_wine_quality_loss: 1.6195 - val_wine_type_loss: 0.2138 - val_wine_quality_root_mean_squared_error: 1.2726 - val_wine_type_accuracy: 0.9213\n",
            "Epoch 4/180\n",
            "116/116 [==============================] - 0s 3ms/step - loss: 1.7814 - wine_quality_loss: 1.5528 - wine_type_loss: 0.2286 - wine_quality_root_mean_squared_error: 1.2461 - wine_type_accuracy: 0.9218 - val_loss: 1.0927 - val_wine_quality_loss: 0.8782 - val_wine_type_loss: 0.2145 - val_wine_quality_root_mean_squared_error: 0.9371 - val_wine_type_accuracy: 0.9165\n",
            "Epoch 5/180\n",
            "116/116 [==============================] - 0s 2ms/step - loss: 1.8088 - wine_quality_loss: 1.5818 - wine_type_loss: 0.2271 - wine_quality_root_mean_squared_error: 1.2577 - wine_type_accuracy: 0.9208 - val_loss: 1.1287 - val_wine_quality_loss: 0.9261 - val_wine_type_loss: 0.2026 - val_wine_quality_root_mean_squared_error: 0.9623 - val_wine_type_accuracy: 0.9230\n",
            "Epoch 6/180\n",
            "116/116 [==============================] - 0s 3ms/step - loss: 1.7977 - wine_quality_loss: 1.5752 - wine_type_loss: 0.2225 - wine_quality_root_mean_squared_error: 1.2551 - wine_type_accuracy: 0.9243 - val_loss: 0.9618 - val_wine_quality_loss: 0.7610 - val_wine_type_loss: 0.2008 - val_wine_quality_root_mean_squared_error: 0.8723 - val_wine_type_accuracy: 0.9230\n",
            "Epoch 7/180\n",
            "116/116 [==============================] - 0s 3ms/step - loss: 1.7234 - wine_quality_loss: 1.5014 - wine_type_loss: 0.2220 - wine_quality_root_mean_squared_error: 1.2253 - wine_type_accuracy: 0.9235 - val_loss: 0.8116 - val_wine_quality_loss: 0.6122 - val_wine_type_loss: 0.1994 - val_wine_quality_root_mean_squared_error: 0.7825 - val_wine_type_accuracy: 0.9230\n",
            "Epoch 8/180\n",
            "116/116 [==============================] - 0s 3ms/step - loss: 1.7467 - wine_quality_loss: 1.5259 - wine_type_loss: 0.2207 - wine_quality_root_mean_squared_error: 1.2353 - wine_type_accuracy: 0.9224 - val_loss: 0.7831 - val_wine_quality_loss: 0.5859 - val_wine_type_loss: 0.1973 - val_wine_quality_root_mean_squared_error: 0.7654 - val_wine_type_accuracy: 0.9230\n",
            "Epoch 9/180\n",
            "116/116 [==============================] - 0s 2ms/step - loss: 1.6429 - wine_quality_loss: 1.4240 - wine_type_loss: 0.2189 - wine_quality_root_mean_squared_error: 1.1933 - wine_type_accuracy: 0.9254 - val_loss: 0.7784 - val_wine_quality_loss: 0.5801 - val_wine_type_loss: 0.1983 - val_wine_quality_root_mean_squared_error: 0.7616 - val_wine_type_accuracy: 0.9262\n",
            "Epoch 10/180\n",
            "116/116 [==============================] - 0s 3ms/step - loss: 1.6870 - wine_quality_loss: 1.4685 - wine_type_loss: 0.2185 - wine_quality_root_mean_squared_error: 1.2118 - wine_type_accuracy: 0.9246 - val_loss: 0.7168 - val_wine_quality_loss: 0.5186 - val_wine_type_loss: 0.1982 - val_wine_quality_root_mean_squared_error: 0.7201 - val_wine_type_accuracy: 0.9286\n",
            "Epoch 11/180\n",
            "116/116 [==============================] - 0s 3ms/step - loss: 1.6446 - wine_quality_loss: 1.4282 - wine_type_loss: 0.2164 - wine_quality_root_mean_squared_error: 1.1951 - wine_type_accuracy: 0.9262 - val_loss: 1.6187 - val_wine_quality_loss: 1.4245 - val_wine_type_loss: 0.1943 - val_wine_quality_root_mean_squared_error: 1.1935 - val_wine_type_accuracy: 0.9294\n",
            "Epoch 12/180\n",
            "116/116 [==============================] - 0s 3ms/step - loss: 1.6088 - wine_quality_loss: 1.3944 - wine_type_loss: 0.2145 - wine_quality_root_mean_squared_error: 1.1808 - wine_type_accuracy: 0.9248 - val_loss: 1.2866 - val_wine_quality_loss: 1.0893 - val_wine_type_loss: 0.1973 - val_wine_quality_root_mean_squared_error: 1.0437 - val_wine_type_accuracy: 0.9238\n",
            "Epoch 13/180\n",
            "116/116 [==============================] - 0s 3ms/step - loss: 1.5967 - wine_quality_loss: 1.3833 - wine_type_loss: 0.2133 - wine_quality_root_mean_squared_error: 1.1762 - wine_type_accuracy: 0.9281 - val_loss: 2.0905 - val_wine_quality_loss: 1.8932 - val_wine_type_loss: 0.1974 - val_wine_quality_root_mean_squared_error: 1.3759 - val_wine_type_accuracy: 0.9254\n",
            "Epoch 14/180\n",
            "116/116 [==============================] - 0s 3ms/step - loss: 1.6021 - wine_quality_loss: 1.3893 - wine_type_loss: 0.2129 - wine_quality_root_mean_squared_error: 1.1787 - wine_type_accuracy: 0.9262 - val_loss: 4.0707 - val_wine_quality_loss: 3.8786 - val_wine_type_loss: 0.1921 - val_wine_quality_root_mean_squared_error: 1.9694 - val_wine_type_accuracy: 0.9294\n",
            "Epoch 15/180\n",
            "116/116 [==============================] - 0s 3ms/step - loss: 1.5597 - wine_quality_loss: 1.3475 - wine_type_loss: 0.2123 - wine_quality_root_mean_squared_error: 1.1608 - wine_type_accuracy: 0.9281 - val_loss: 2.3104 - val_wine_quality_loss: 2.1208 - val_wine_type_loss: 0.1896 - val_wine_quality_root_mean_squared_error: 1.4563 - val_wine_type_accuracy: 0.9262\n",
            "Epoch 16/180\n",
            "116/116 [==============================] - 0s 2ms/step - loss: 1.5378 - wine_quality_loss: 1.3275 - wine_type_loss: 0.2103 - wine_quality_root_mean_squared_error: 1.1522 - wine_type_accuracy: 0.9270 - val_loss: 0.7748 - val_wine_quality_loss: 0.5716 - val_wine_type_loss: 0.2032 - val_wine_quality_root_mean_squared_error: 0.7560 - val_wine_type_accuracy: 0.9278\n",
            "Epoch 17/180\n",
            "116/116 [==============================] - 0s 3ms/step - loss: 1.5417 - wine_quality_loss: 1.3326 - wine_type_loss: 0.2091 - wine_quality_root_mean_squared_error: 1.1544 - wine_type_accuracy: 0.9286 - val_loss: 0.9089 - val_wine_quality_loss: 0.7112 - val_wine_type_loss: 0.1977 - val_wine_quality_root_mean_squared_error: 0.8433 - val_wine_type_accuracy: 0.9246\n",
            "Epoch 18/180\n",
            "116/116 [==============================] - 0s 3ms/step - loss: 1.5055 - wine_quality_loss: 1.2968 - wine_type_loss: 0.2087 - wine_quality_root_mean_squared_error: 1.1388 - wine_type_accuracy: 0.9267 - val_loss: 0.6421 - val_wine_quality_loss: 0.4544 - val_wine_type_loss: 0.1878 - val_wine_quality_root_mean_squared_error: 0.6741 - val_wine_type_accuracy: 0.9278\n",
            "Epoch 19/180\n",
            "116/116 [==============================] - 0s 3ms/step - loss: 1.4694 - wine_quality_loss: 1.2612 - wine_type_loss: 0.2082 - wine_quality_root_mean_squared_error: 1.1230 - wine_type_accuracy: 0.9278 - val_loss: 1.8679 - val_wine_quality_loss: 1.6811 - val_wine_type_loss: 0.1868 - val_wine_quality_root_mean_squared_error: 1.2966 - val_wine_type_accuracy: 0.9262\n",
            "Epoch 20/180\n",
            "116/116 [==============================] - 0s 3ms/step - loss: 1.5172 - wine_quality_loss: 1.3084 - wine_type_loss: 0.2088 - wine_quality_root_mean_squared_error: 1.1439 - wine_type_accuracy: 0.9321 - val_loss: 0.7040 - val_wine_quality_loss: 0.5172 - val_wine_type_loss: 0.1868 - val_wine_quality_root_mean_squared_error: 0.7192 - val_wine_type_accuracy: 0.9262\n",
            "Epoch 21/180\n",
            "116/116 [==============================] - 0s 3ms/step - loss: 1.4301 - wine_quality_loss: 1.2234 - wine_type_loss: 0.2067 - wine_quality_root_mean_squared_error: 1.1061 - wine_type_accuracy: 0.9262 - val_loss: 0.9766 - val_wine_quality_loss: 0.7908 - val_wine_type_loss: 0.1858 - val_wine_quality_root_mean_squared_error: 0.8893 - val_wine_type_accuracy: 0.9311\n",
            "Epoch 22/180\n",
            "116/116 [==============================] - 0s 2ms/step - loss: 1.4921 - wine_quality_loss: 1.2863 - wine_type_loss: 0.2058 - wine_quality_root_mean_squared_error: 1.1342 - wine_type_accuracy: 0.9292 - val_loss: 1.1338 - val_wine_quality_loss: 0.9459 - val_wine_type_loss: 0.1880 - val_wine_quality_root_mean_squared_error: 0.9726 - val_wine_type_accuracy: 0.9359\n",
            "Epoch 23/180\n",
            "116/116 [==============================] - 0s 3ms/step - loss: 1.4317 - wine_quality_loss: 1.2264 - wine_type_loss: 0.2053 - wine_quality_root_mean_squared_error: 1.1074 - wine_type_accuracy: 0.9286 - val_loss: 2.0699 - val_wine_quality_loss: 1.8835 - val_wine_type_loss: 0.1863 - val_wine_quality_root_mean_squared_error: 1.3724 - val_wine_type_accuracy: 0.9270\n",
            "Epoch 24/180\n",
            "116/116 [==============================] - 0s 3ms/step - loss: 1.4374 - wine_quality_loss: 1.2331 - wine_type_loss: 0.2044 - wine_quality_root_mean_squared_error: 1.1104 - wine_type_accuracy: 0.9300 - val_loss: 3.9408 - val_wine_quality_loss: 3.7563 - val_wine_type_loss: 0.1845 - val_wine_quality_root_mean_squared_error: 1.9381 - val_wine_type_accuracy: 0.9335\n",
            "Epoch 25/180\n",
            "116/116 [==============================] - 0s 3ms/step - loss: 1.4510 - wine_quality_loss: 1.2485 - wine_type_loss: 0.2026 - wine_quality_root_mean_squared_error: 1.1173 - wine_type_accuracy: 0.9302 - val_loss: 2.1067 - val_wine_quality_loss: 1.9157 - val_wine_type_loss: 0.1910 - val_wine_quality_root_mean_squared_error: 1.3841 - val_wine_type_accuracy: 0.9311\n",
            "Epoch 26/180\n",
            "116/116 [==============================] - 0s 3ms/step - loss: 1.4484 - wine_quality_loss: 1.2470 - wine_type_loss: 0.2014 - wine_quality_root_mean_squared_error: 1.1167 - wine_type_accuracy: 0.9308 - val_loss: 0.6428 - val_wine_quality_loss: 0.4598 - val_wine_type_loss: 0.1829 - val_wine_quality_root_mean_squared_error: 0.6781 - val_wine_type_accuracy: 0.9311\n",
            "Epoch 27/180\n",
            "116/116 [==============================] - 0s 3ms/step - loss: 1.4373 - wine_quality_loss: 1.2364 - wine_type_loss: 0.2010 - wine_quality_root_mean_squared_error: 1.1119 - wine_type_accuracy: 0.9302 - val_loss: 2.3479 - val_wine_quality_loss: 2.1647 - val_wine_type_loss: 0.1832 - val_wine_quality_root_mean_squared_error: 1.4713 - val_wine_type_accuracy: 0.9359\n",
            "Epoch 28/180\n",
            "116/116 [==============================] - 0s 2ms/step - loss: 1.4094 - wine_quality_loss: 1.2092 - wine_type_loss: 0.2001 - wine_quality_root_mean_squared_error: 1.0997 - wine_type_accuracy: 0.9292 - val_loss: 0.6151 - val_wine_quality_loss: 0.4285 - val_wine_type_loss: 0.1866 - val_wine_quality_root_mean_squared_error: 0.6546 - val_wine_type_accuracy: 0.9303\n",
            "Epoch 29/180\n",
            "116/116 [==============================] - 0s 3ms/step - loss: 1.4136 - wine_quality_loss: 1.2134 - wine_type_loss: 0.2002 - wine_quality_root_mean_squared_error: 1.1015 - wine_type_accuracy: 0.9302 - val_loss: 0.6833 - val_wine_quality_loss: 0.5024 - val_wine_type_loss: 0.1809 - val_wine_quality_root_mean_squared_error: 0.7088 - val_wine_type_accuracy: 0.9335\n",
            "Epoch 30/180\n",
            "116/116 [==============================] - 0s 3ms/step - loss: 1.4297 - wine_quality_loss: 1.2306 - wine_type_loss: 0.1992 - wine_quality_root_mean_squared_error: 1.1093 - wine_type_accuracy: 0.9294 - val_loss: 1.1586 - val_wine_quality_loss: 0.9715 - val_wine_type_loss: 0.1870 - val_wine_quality_root_mean_squared_error: 0.9857 - val_wine_type_accuracy: 0.9351\n",
            "Epoch 31/180\n",
            "116/116 [==============================] - 0s 3ms/step - loss: 1.4568 - wine_quality_loss: 1.2574 - wine_type_loss: 0.1994 - wine_quality_root_mean_squared_error: 1.1213 - wine_type_accuracy: 0.9337 - val_loss: 1.4344 - val_wine_quality_loss: 1.2557 - val_wine_type_loss: 0.1787 - val_wine_quality_root_mean_squared_error: 1.1206 - val_wine_type_accuracy: 0.9335\n",
            "Epoch 32/180\n",
            "116/116 [==============================] - 0s 3ms/step - loss: 1.3745 - wine_quality_loss: 1.1764 - wine_type_loss: 0.1981 - wine_quality_root_mean_squared_error: 1.0846 - wine_type_accuracy: 0.9319 - val_loss: 1.3577 - val_wine_quality_loss: 1.1585 - val_wine_type_loss: 0.1992 - val_wine_quality_root_mean_squared_error: 1.0763 - val_wine_type_accuracy: 0.9270\n",
            "Epoch 33/180\n",
            "116/116 [==============================] - 0s 3ms/step - loss: 1.3830 - wine_quality_loss: 1.1855 - wine_type_loss: 0.1975 - wine_quality_root_mean_squared_error: 1.0888 - wine_type_accuracy: 0.9294 - val_loss: 0.8367 - val_wine_quality_loss: 0.6591 - val_wine_type_loss: 0.1776 - val_wine_quality_root_mean_squared_error: 0.8118 - val_wine_type_accuracy: 0.9319\n",
            "Epoch 34/180\n",
            "116/116 [==============================] - 0s 3ms/step - loss: 1.3188 - wine_quality_loss: 1.1221 - wine_type_loss: 0.1967 - wine_quality_root_mean_squared_error: 1.0593 - wine_type_accuracy: 0.9324 - val_loss: 0.8231 - val_wine_quality_loss: 0.6436 - val_wine_type_loss: 0.1795 - val_wine_quality_root_mean_squared_error: 0.8022 - val_wine_type_accuracy: 0.9367\n",
            "Epoch 35/180\n",
            "116/116 [==============================] - 0s 3ms/step - loss: 1.3282 - wine_quality_loss: 1.1324 - wine_type_loss: 0.1958 - wine_quality_root_mean_squared_error: 1.0641 - wine_type_accuracy: 0.9327 - val_loss: 2.3894 - val_wine_quality_loss: 2.2101 - val_wine_type_loss: 0.1794 - val_wine_quality_root_mean_squared_error: 1.4866 - val_wine_type_accuracy: 0.9359\n",
            "Epoch 36/180\n",
            "116/116 [==============================] - 0s 3ms/step - loss: 1.3737 - wine_quality_loss: 1.1788 - wine_type_loss: 0.1948 - wine_quality_root_mean_squared_error: 1.0857 - wine_type_accuracy: 0.9335 - val_loss: 3.0197 - val_wine_quality_loss: 2.8429 - val_wine_type_loss: 0.1768 - val_wine_quality_root_mean_squared_error: 1.6861 - val_wine_type_accuracy: 0.9351\n",
            "Epoch 37/180\n",
            "116/116 [==============================] - 0s 3ms/step - loss: 1.2552 - wine_quality_loss: 1.0620 - wine_type_loss: 0.1932 - wine_quality_root_mean_squared_error: 1.0305 - wine_type_accuracy: 0.9329 - val_loss: 4.3613 - val_wine_quality_loss: 4.1862 - val_wine_type_loss: 0.1751 - val_wine_quality_root_mean_squared_error: 2.0460 - val_wine_type_accuracy: 0.9351\n",
            "Epoch 38/180\n",
            "116/116 [==============================] - 0s 3ms/step - loss: 1.3479 - wine_quality_loss: 1.1545 - wine_type_loss: 0.1934 - wine_quality_root_mean_squared_error: 1.0745 - wine_type_accuracy: 0.9335 - val_loss: 1.3549 - val_wine_quality_loss: 1.1760 - val_wine_type_loss: 0.1789 - val_wine_quality_root_mean_squared_error: 1.0844 - val_wine_type_accuracy: 0.9343\n",
            "Epoch 39/180\n",
            "116/116 [==============================] - 0s 3ms/step - loss: 1.3086 - wine_quality_loss: 1.1142 - wine_type_loss: 0.1944 - wine_quality_root_mean_squared_error: 1.0556 - wine_type_accuracy: 0.9332 - val_loss: 0.8410 - val_wine_quality_loss: 0.6614 - val_wine_type_loss: 0.1796 - val_wine_quality_root_mean_squared_error: 0.8133 - val_wine_type_accuracy: 0.9335\n",
            "Epoch 40/180\n",
            "116/116 [==============================] - 0s 3ms/step - loss: 1.2994 - wine_quality_loss: 1.1070 - wine_type_loss: 0.1924 - wine_quality_root_mean_squared_error: 1.0521 - wine_type_accuracy: 0.9327 - val_loss: 1.0445 - val_wine_quality_loss: 0.8715 - val_wine_type_loss: 0.1731 - val_wine_quality_root_mean_squared_error: 0.9335 - val_wine_type_accuracy: 0.9359\n",
            "Epoch 41/180\n",
            "116/116 [==============================] - 0s 3ms/step - loss: 1.2703 - wine_quality_loss: 1.0788 - wine_type_loss: 0.1915 - wine_quality_root_mean_squared_error: 1.0387 - wine_type_accuracy: 0.9346 - val_loss: 0.5708 - val_wine_quality_loss: 0.3929 - val_wine_type_loss: 0.1779 - val_wine_quality_root_mean_squared_error: 0.6268 - val_wine_type_accuracy: 0.9311\n",
            "Epoch 42/180\n",
            "116/116 [==============================] - 0s 2ms/step - loss: 1.2788 - wine_quality_loss: 1.0867 - wine_type_loss: 0.1922 - wine_quality_root_mean_squared_error: 1.0424 - wine_type_accuracy: 0.9332 - val_loss: 0.6865 - val_wine_quality_loss: 0.5126 - val_wine_type_loss: 0.1739 - val_wine_quality_root_mean_squared_error: 0.7159 - val_wine_type_accuracy: 0.9359\n",
            "Epoch 43/180\n",
            "116/116 [==============================] - 0s 3ms/step - loss: 1.2257 - wine_quality_loss: 1.0347 - wine_type_loss: 0.1910 - wine_quality_root_mean_squared_error: 1.0172 - wine_type_accuracy: 0.9332 - val_loss: 1.1119 - val_wine_quality_loss: 0.9406 - val_wine_type_loss: 0.1712 - val_wine_quality_root_mean_squared_error: 0.9699 - val_wine_type_accuracy: 0.9359\n",
            "Epoch 44/180\n",
            "116/116 [==============================] - 0s 3ms/step - loss: 1.2563 - wine_quality_loss: 1.0667 - wine_type_loss: 0.1897 - wine_quality_root_mean_squared_error: 1.0328 - wine_type_accuracy: 0.9340 - val_loss: 0.7351 - val_wine_quality_loss: 0.5622 - val_wine_type_loss: 0.1729 - val_wine_quality_root_mean_squared_error: 0.7498 - val_wine_type_accuracy: 0.9351\n",
            "Epoch 45/180\n",
            "116/116 [==============================] - 0s 3ms/step - loss: 1.2527 - wine_quality_loss: 1.0623 - wine_type_loss: 0.1904 - wine_quality_root_mean_squared_error: 1.0307 - wine_type_accuracy: 0.9346 - val_loss: 0.7419 - val_wine_quality_loss: 0.5723 - val_wine_type_loss: 0.1696 - val_wine_quality_root_mean_squared_error: 0.7565 - val_wine_type_accuracy: 0.9367\n",
            "Epoch 46/180\n",
            "116/116 [==============================] - 0s 3ms/step - loss: 1.2271 - wine_quality_loss: 1.0381 - wine_type_loss: 0.1890 - wine_quality_root_mean_squared_error: 1.0189 - wine_type_accuracy: 0.9343 - val_loss: 0.8639 - val_wine_quality_loss: 0.6951 - val_wine_type_loss: 0.1688 - val_wine_quality_root_mean_squared_error: 0.8337 - val_wine_type_accuracy: 0.9376\n",
            "Epoch 47/180\n",
            "116/116 [==============================] - 0s 3ms/step - loss: 1.2431 - wine_quality_loss: 1.0554 - wine_type_loss: 0.1876 - wine_quality_root_mean_squared_error: 1.0273 - wine_type_accuracy: 0.9354 - val_loss: 1.0033 - val_wine_quality_loss: 0.8194 - val_wine_type_loss: 0.1839 - val_wine_quality_root_mean_squared_error: 0.9052 - val_wine_type_accuracy: 0.9335\n",
            "Epoch 48/180\n",
            "116/116 [==============================] - 0s 3ms/step - loss: 1.1892 - wine_quality_loss: 1.0020 - wine_type_loss: 0.1872 - wine_quality_root_mean_squared_error: 1.0010 - wine_type_accuracy: 0.9348 - val_loss: 0.6077 - val_wine_quality_loss: 0.4393 - val_wine_type_loss: 0.1684 - val_wine_quality_root_mean_squared_error: 0.6628 - val_wine_type_accuracy: 0.9367\n",
            "Epoch 49/180\n",
            "116/116 [==============================] - 0s 3ms/step - loss: 1.2511 - wine_quality_loss: 1.0627 - wine_type_loss: 0.1884 - wine_quality_root_mean_squared_error: 1.0309 - wine_type_accuracy: 0.9335 - val_loss: 1.2868 - val_wine_quality_loss: 1.1194 - val_wine_type_loss: 0.1674 - val_wine_quality_root_mean_squared_error: 1.0580 - val_wine_type_accuracy: 0.9392\n",
            "Epoch 50/180\n",
            "116/116 [==============================] - 0s 2ms/step - loss: 1.2186 - wine_quality_loss: 1.0315 - wine_type_loss: 0.1871 - wine_quality_root_mean_squared_error: 1.0156 - wine_type_accuracy: 0.9346 - val_loss: 1.9534 - val_wine_quality_loss: 1.7767 - val_wine_type_loss: 0.1767 - val_wine_quality_root_mean_squared_error: 1.3329 - val_wine_type_accuracy: 0.9335\n",
            "Epoch 51/180\n",
            "116/116 [==============================] - 0s 3ms/step - loss: 1.1434 - wine_quality_loss: 0.9566 - wine_type_loss: 0.1868 - wine_quality_root_mean_squared_error: 0.9781 - wine_type_accuracy: 0.9340 - val_loss: 1.4132 - val_wine_quality_loss: 1.2427 - val_wine_type_loss: 0.1705 - val_wine_quality_root_mean_squared_error: 1.1148 - val_wine_type_accuracy: 0.9392\n",
            "Epoch 52/180\n",
            "116/116 [==============================] - 0s 3ms/step - loss: 1.1745 - wine_quality_loss: 0.9907 - wine_type_loss: 0.1837 - wine_quality_root_mean_squared_error: 0.9954 - wine_type_accuracy: 0.9340 - val_loss: 0.8457 - val_wine_quality_loss: 0.6770 - val_wine_type_loss: 0.1688 - val_wine_quality_root_mean_squared_error: 0.8228 - val_wine_type_accuracy: 0.9351\n",
            "Epoch 53/180\n",
            "116/116 [==============================] - 0s 3ms/step - loss: 1.1630 - wine_quality_loss: 0.9792 - wine_type_loss: 0.1839 - wine_quality_root_mean_squared_error: 0.9895 - wine_type_accuracy: 0.9354 - val_loss: 1.2671 - val_wine_quality_loss: 1.1010 - val_wine_type_loss: 0.1661 - val_wine_quality_root_mean_squared_error: 1.0493 - val_wine_type_accuracy: 0.9367\n",
            "Epoch 54/180\n",
            "116/116 [==============================] - 0s 3ms/step - loss: 1.2277 - wine_quality_loss: 1.0425 - wine_type_loss: 0.1852 - wine_quality_root_mean_squared_error: 1.0210 - wine_type_accuracy: 0.9354 - val_loss: 0.6152 - val_wine_quality_loss: 0.4466 - val_wine_type_loss: 0.1686 - val_wine_quality_root_mean_squared_error: 0.6683 - val_wine_type_accuracy: 0.9376\n",
            "Epoch 55/180\n",
            "116/116 [==============================] - 0s 3ms/step - loss: 1.1858 - wine_quality_loss: 1.0013 - wine_type_loss: 0.1846 - wine_quality_root_mean_squared_error: 1.0006 - wine_type_accuracy: 0.9332 - val_loss: 1.1355 - val_wine_quality_loss: 0.9672 - val_wine_type_loss: 0.1683 - val_wine_quality_root_mean_squared_error: 0.9834 - val_wine_type_accuracy: 0.9376\n",
            "Epoch 56/180\n",
            "116/116 [==============================] - 0s 3ms/step - loss: 1.1743 - wine_quality_loss: 0.9909 - wine_type_loss: 0.1834 - wine_quality_root_mean_squared_error: 0.9954 - wine_type_accuracy: 0.9362 - val_loss: 0.5756 - val_wine_quality_loss: 0.4088 - val_wine_type_loss: 0.1668 - val_wine_quality_root_mean_squared_error: 0.6394 - val_wine_type_accuracy: 0.9367\n",
            "Epoch 57/180\n",
            "116/116 [==============================] - 0s 3ms/step - loss: 1.1456 - wine_quality_loss: 0.9634 - wine_type_loss: 0.1822 - wine_quality_root_mean_squared_error: 0.9815 - wine_type_accuracy: 0.9351 - val_loss: 0.5720 - val_wine_quality_loss: 0.4072 - val_wine_type_loss: 0.1648 - val_wine_quality_root_mean_squared_error: 0.6381 - val_wine_type_accuracy: 0.9359\n",
            "Epoch 58/180\n",
            "116/116 [==============================] - 0s 3ms/step - loss: 1.1878 - wine_quality_loss: 1.0066 - wine_type_loss: 0.1812 - wine_quality_root_mean_squared_error: 1.0033 - wine_type_accuracy: 0.9348 - val_loss: 2.6766 - val_wine_quality_loss: 2.5051 - val_wine_type_loss: 0.1715 - val_wine_quality_root_mean_squared_error: 1.5828 - val_wine_type_accuracy: 0.9319\n",
            "Epoch 59/180\n",
            "116/116 [==============================] - 0s 3ms/step - loss: 1.1394 - wine_quality_loss: 0.9582 - wine_type_loss: 0.1813 - wine_quality_root_mean_squared_error: 0.9789 - wine_type_accuracy: 0.9367 - val_loss: 0.6849 - val_wine_quality_loss: 0.5117 - val_wine_type_loss: 0.1732 - val_wine_quality_root_mean_squared_error: 0.7154 - val_wine_type_accuracy: 0.9367\n",
            "Epoch 60/180\n",
            "116/116 [==============================] - 0s 3ms/step - loss: 1.1640 - wine_quality_loss: 0.9839 - wine_type_loss: 0.1801 - wine_quality_root_mean_squared_error: 0.9919 - wine_type_accuracy: 0.9362 - val_loss: 1.3825 - val_wine_quality_loss: 1.2157 - val_wine_type_loss: 0.1668 - val_wine_quality_root_mean_squared_error: 1.1026 - val_wine_type_accuracy: 0.9367\n",
            "Epoch 61/180\n",
            "116/116 [==============================] - 0s 3ms/step - loss: 1.1576 - wine_quality_loss: 0.9769 - wine_type_loss: 0.1806 - wine_quality_root_mean_squared_error: 0.9884 - wine_type_accuracy: 0.9370 - val_loss: 0.5827 - val_wine_quality_loss: 0.4103 - val_wine_type_loss: 0.1724 - val_wine_quality_root_mean_squared_error: 0.6405 - val_wine_type_accuracy: 0.9359\n",
            "Epoch 62/180\n",
            "116/116 [==============================] - 0s 3ms/step - loss: 1.1628 - wine_quality_loss: 0.9821 - wine_type_loss: 0.1807 - wine_quality_root_mean_squared_error: 0.9910 - wine_type_accuracy: 0.9343 - val_loss: 0.6619 - val_wine_quality_loss: 0.4998 - val_wine_type_loss: 0.1621 - val_wine_quality_root_mean_squared_error: 0.7070 - val_wine_type_accuracy: 0.9392\n",
            "Epoch 63/180\n",
            "116/116 [==============================] - 0s 3ms/step - loss: 1.1229 - wine_quality_loss: 0.9438 - wine_type_loss: 0.1791 - wine_quality_root_mean_squared_error: 0.9715 - wine_type_accuracy: 0.9351 - val_loss: 0.7874 - val_wine_quality_loss: 0.6190 - val_wine_type_loss: 0.1685 - val_wine_quality_root_mean_squared_error: 0.7867 - val_wine_type_accuracy: 0.9359\n",
            "Epoch 64/180\n",
            "116/116 [==============================] - 0s 3ms/step - loss: 1.1472 - wine_quality_loss: 0.9684 - wine_type_loss: 0.1787 - wine_quality_root_mean_squared_error: 0.9841 - wine_type_accuracy: 0.9383 - val_loss: 1.1110 - val_wine_quality_loss: 0.9262 - val_wine_type_loss: 0.1849 - val_wine_quality_root_mean_squared_error: 0.9624 - val_wine_type_accuracy: 0.9367\n",
            "Epoch 65/180\n",
            "116/116 [==============================] - 0s 3ms/step - loss: 1.1266 - wine_quality_loss: 0.9483 - wine_type_loss: 0.1783 - wine_quality_root_mean_squared_error: 0.9738 - wine_type_accuracy: 0.9373 - val_loss: 0.9144 - val_wine_quality_loss: 0.7485 - val_wine_type_loss: 0.1659 - val_wine_quality_root_mean_squared_error: 0.8651 - val_wine_type_accuracy: 0.9367\n",
            "Epoch 66/180\n",
            "116/116 [==============================] - 0s 3ms/step - loss: 1.1063 - wine_quality_loss: 0.9290 - wine_type_loss: 0.1773 - wine_quality_root_mean_squared_error: 0.9639 - wine_type_accuracy: 0.9351 - val_loss: 0.7227 - val_wine_quality_loss: 0.5612 - val_wine_type_loss: 0.1615 - val_wine_quality_root_mean_squared_error: 0.7491 - val_wine_type_accuracy: 0.9400\n",
            "Epoch 67/180\n",
            "116/116 [==============================] - 0s 3ms/step - loss: 1.1473 - wine_quality_loss: 0.9709 - wine_type_loss: 0.1764 - wine_quality_root_mean_squared_error: 0.9854 - wine_type_accuracy: 0.9370 - val_loss: 0.5792 - val_wine_quality_loss: 0.4179 - val_wine_type_loss: 0.1612 - val_wine_quality_root_mean_squared_error: 0.6465 - val_wine_type_accuracy: 0.9392\n",
            "Epoch 68/180\n",
            "116/116 [==============================] - 0s 3ms/step - loss: 1.0810 - wine_quality_loss: 0.9047 - wine_type_loss: 0.1763 - wine_quality_root_mean_squared_error: 0.9512 - wine_type_accuracy: 0.9389 - val_loss: 0.8609 - val_wine_quality_loss: 0.7007 - val_wine_type_loss: 0.1602 - val_wine_quality_root_mean_squared_error: 0.8371 - val_wine_type_accuracy: 0.9384\n",
            "Epoch 69/180\n",
            "116/116 [==============================] - 0s 3ms/step - loss: 1.1115 - wine_quality_loss: 0.9359 - wine_type_loss: 0.1757 - wine_quality_root_mean_squared_error: 0.9674 - wine_type_accuracy: 0.9375 - val_loss: 0.7481 - val_wine_quality_loss: 0.5895 - val_wine_type_loss: 0.1585 - val_wine_quality_root_mean_squared_error: 0.7678 - val_wine_type_accuracy: 0.9400\n",
            "Epoch 70/180\n",
            "116/116 [==============================] - 0s 3ms/step - loss: 1.0600 - wine_quality_loss: 0.8853 - wine_type_loss: 0.1746 - wine_quality_root_mean_squared_error: 0.9409 - wine_type_accuracy: 0.9373 - val_loss: 1.7919 - val_wine_quality_loss: 1.6344 - val_wine_type_loss: 0.1575 - val_wine_quality_root_mean_squared_error: 1.2784 - val_wine_type_accuracy: 0.9416\n",
            "Epoch 71/180\n",
            "116/116 [==============================] - 0s 3ms/step - loss: 1.1023 - wine_quality_loss: 0.9274 - wine_type_loss: 0.1750 - wine_quality_root_mean_squared_error: 0.9630 - wine_type_accuracy: 0.9373 - val_loss: 1.7355 - val_wine_quality_loss: 1.5716 - val_wine_type_loss: 0.1639 - val_wine_quality_root_mean_squared_error: 1.2536 - val_wine_type_accuracy: 0.9367\n",
            "Epoch 72/180\n",
            "116/116 [==============================] - 0s 3ms/step - loss: 1.0757 - wine_quality_loss: 0.9011 - wine_type_loss: 0.1746 - wine_quality_root_mean_squared_error: 0.9493 - wine_type_accuracy: 0.9359 - val_loss: 1.1627 - val_wine_quality_loss: 0.9989 - val_wine_type_loss: 0.1638 - val_wine_quality_root_mean_squared_error: 0.9994 - val_wine_type_accuracy: 0.9359\n",
            "Epoch 73/180\n",
            "116/116 [==============================] - 0s 3ms/step - loss: 1.0556 - wine_quality_loss: 0.8802 - wine_type_loss: 0.1755 - wine_quality_root_mean_squared_error: 0.9382 - wine_type_accuracy: 0.9394 - val_loss: 2.0014 - val_wine_quality_loss: 1.8431 - val_wine_type_loss: 0.1583 - val_wine_quality_root_mean_squared_error: 1.3576 - val_wine_type_accuracy: 0.9424\n",
            "Epoch 74/180\n",
            "116/116 [==============================] - 0s 3ms/step - loss: 1.0440 - wine_quality_loss: 0.8722 - wine_type_loss: 0.1718 - wine_quality_root_mean_squared_error: 0.9339 - wine_type_accuracy: 0.9381 - val_loss: 0.5645 - val_wine_quality_loss: 0.3777 - val_wine_type_loss: 0.1869 - val_wine_quality_root_mean_squared_error: 0.6145 - val_wine_type_accuracy: 0.9367\n",
            "Epoch 75/180\n",
            "116/116 [==============================] - 0s 3ms/step - loss: 1.0479 - wine_quality_loss: 0.8764 - wine_type_loss: 0.1715 - wine_quality_root_mean_squared_error: 0.9362 - wine_type_accuracy: 0.9383 - val_loss: 1.1078 - val_wine_quality_loss: 0.9481 - val_wine_type_loss: 0.1597 - val_wine_quality_root_mean_squared_error: 0.9737 - val_wine_type_accuracy: 0.9408\n",
            "Epoch 76/180\n",
            "116/116 [==============================] - 0s 3ms/step - loss: 1.0187 - wine_quality_loss: 0.8463 - wine_type_loss: 0.1724 - wine_quality_root_mean_squared_error: 0.9200 - wine_type_accuracy: 0.9381 - val_loss: 1.5076 - val_wine_quality_loss: 1.3504 - val_wine_type_loss: 0.1573 - val_wine_quality_root_mean_squared_error: 1.1621 - val_wine_type_accuracy: 0.9400\n",
            "Epoch 77/180\n",
            "116/116 [==============================] - 0s 3ms/step - loss: 1.0109 - wine_quality_loss: 0.8397 - wine_type_loss: 0.1712 - wine_quality_root_mean_squared_error: 0.9164 - wine_type_accuracy: 0.9378 - val_loss: 0.7285 - val_wine_quality_loss: 0.5505 - val_wine_type_loss: 0.1781 - val_wine_quality_root_mean_squared_error: 0.7419 - val_wine_type_accuracy: 0.9376\n",
            "Epoch 78/180\n",
            "116/116 [==============================] - 0s 3ms/step - loss: 1.0489 - wine_quality_loss: 0.8769 - wine_type_loss: 0.1720 - wine_quality_root_mean_squared_error: 0.9364 - wine_type_accuracy: 0.9405 - val_loss: 0.6760 - val_wine_quality_loss: 0.5134 - val_wine_type_loss: 0.1626 - val_wine_quality_root_mean_squared_error: 0.7165 - val_wine_type_accuracy: 0.9392\n",
            "Epoch 79/180\n",
            "116/116 [==============================] - 0s 3ms/step - loss: 1.0274 - wine_quality_loss: 0.8551 - wine_type_loss: 0.1722 - wine_quality_root_mean_squared_error: 0.9247 - wine_type_accuracy: 0.9389 - val_loss: 0.5450 - val_wine_quality_loss: 0.3879 - val_wine_type_loss: 0.1571 - val_wine_quality_root_mean_squared_error: 0.6228 - val_wine_type_accuracy: 0.9367\n",
            "Epoch 80/180\n",
            "116/116 [==============================] - 0s 3ms/step - loss: 1.0260 - wine_quality_loss: 0.8557 - wine_type_loss: 0.1703 - wine_quality_root_mean_squared_error: 0.9250 - wine_type_accuracy: 0.9402 - val_loss: 0.5403 - val_wine_quality_loss: 0.3863 - val_wine_type_loss: 0.1540 - val_wine_quality_root_mean_squared_error: 0.6215 - val_wine_type_accuracy: 0.9416\n",
            "Epoch 81/180\n",
            "116/116 [==============================] - 0s 3ms/step - loss: 1.0152 - wine_quality_loss: 0.8448 - wine_type_loss: 0.1704 - wine_quality_root_mean_squared_error: 0.9191 - wine_type_accuracy: 0.9394 - val_loss: 0.7032 - val_wine_quality_loss: 0.5464 - val_wine_type_loss: 0.1567 - val_wine_quality_root_mean_squared_error: 0.7392 - val_wine_type_accuracy: 0.9367\n",
            "Epoch 82/180\n",
            "116/116 [==============================] - 0s 3ms/step - loss: 1.0109 - wine_quality_loss: 0.8419 - wine_type_loss: 0.1689 - wine_quality_root_mean_squared_error: 0.9176 - wine_type_accuracy: 0.9416 - val_loss: 1.9833 - val_wine_quality_loss: 1.8297 - val_wine_type_loss: 0.1536 - val_wine_quality_root_mean_squared_error: 1.3527 - val_wine_type_accuracy: 0.9424\n",
            "Epoch 83/180\n",
            "116/116 [==============================] - 0s 3ms/step - loss: 1.0334 - wine_quality_loss: 0.8634 - wine_type_loss: 0.1700 - wine_quality_root_mean_squared_error: 0.9292 - wine_type_accuracy: 0.9416 - val_loss: 2.5247 - val_wine_quality_loss: 2.3677 - val_wine_type_loss: 0.1571 - val_wine_quality_root_mean_squared_error: 1.5387 - val_wine_type_accuracy: 0.9376\n",
            "Epoch 84/180\n",
            "116/116 [==============================] - 0s 2ms/step - loss: 0.9802 - wine_quality_loss: 0.8102 - wine_type_loss: 0.1700 - wine_quality_root_mean_squared_error: 0.9001 - wine_type_accuracy: 0.9394 - val_loss: 0.8532 - val_wine_quality_loss: 0.7004 - val_wine_type_loss: 0.1528 - val_wine_quality_root_mean_squared_error: 0.8369 - val_wine_type_accuracy: 0.9408\n",
            "Epoch 85/180\n",
            "116/116 [==============================] - 0s 3ms/step - loss: 1.0235 - wine_quality_loss: 0.8561 - wine_type_loss: 0.1674 - wine_quality_root_mean_squared_error: 0.9253 - wine_type_accuracy: 0.9419 - val_loss: 0.8060 - val_wine_quality_loss: 0.6499 - val_wine_type_loss: 0.1562 - val_wine_quality_root_mean_squared_error: 0.8061 - val_wine_type_accuracy: 0.9351\n",
            "Epoch 86/180\n",
            "116/116 [==============================] - 0s 3ms/step - loss: 0.9965 - wine_quality_loss: 0.8278 - wine_type_loss: 0.1688 - wine_quality_root_mean_squared_error: 0.9098 - wine_type_accuracy: 0.9410 - val_loss: 1.8546 - val_wine_quality_loss: 1.7015 - val_wine_type_loss: 0.1530 - val_wine_quality_root_mean_squared_error: 1.3044 - val_wine_type_accuracy: 0.9424\n",
            "Epoch 87/180\n",
            "116/116 [==============================] - 0s 3ms/step - loss: 0.9899 - wine_quality_loss: 0.8218 - wine_type_loss: 0.1682 - wine_quality_root_mean_squared_error: 0.9065 - wine_type_accuracy: 0.9386 - val_loss: 0.8155 - val_wine_quality_loss: 0.6636 - val_wine_type_loss: 0.1520 - val_wine_quality_root_mean_squared_error: 0.8146 - val_wine_type_accuracy: 0.9408\n",
            "Epoch 88/180\n",
            "116/116 [==============================] - 0s 3ms/step - loss: 0.9545 - wine_quality_loss: 0.7868 - wine_type_loss: 0.1677 - wine_quality_root_mean_squared_error: 0.8870 - wine_type_accuracy: 0.9419 - val_loss: 0.8509 - val_wine_quality_loss: 0.6997 - val_wine_type_loss: 0.1512 - val_wine_quality_root_mean_squared_error: 0.8365 - val_wine_type_accuracy: 0.9416\n",
            "Epoch 89/180\n",
            "116/116 [==============================] - 0s 3ms/step - loss: 0.9966 - wine_quality_loss: 0.8305 - wine_type_loss: 0.1661 - wine_quality_root_mean_squared_error: 0.9113 - wine_type_accuracy: 0.9421 - val_loss: 0.8758 - val_wine_quality_loss: 0.7222 - val_wine_type_loss: 0.1536 - val_wine_quality_root_mean_squared_error: 0.8498 - val_wine_type_accuracy: 0.9424\n",
            "Epoch 90/180\n",
            "116/116 [==============================] - 0s 3ms/step - loss: 0.9613 - wine_quality_loss: 0.7954 - wine_type_loss: 0.1659 - wine_quality_root_mean_squared_error: 0.8919 - wine_type_accuracy: 0.9424 - val_loss: 0.8457 - val_wine_quality_loss: 0.6943 - val_wine_type_loss: 0.1514 - val_wine_quality_root_mean_squared_error: 0.8333 - val_wine_type_accuracy: 0.9424\n",
            "Epoch 91/180\n",
            "116/116 [==============================] - 0s 3ms/step - loss: 0.9774 - wine_quality_loss: 0.8106 - wine_type_loss: 0.1668 - wine_quality_root_mean_squared_error: 0.9003 - wine_type_accuracy: 0.9416 - val_loss: 1.2577 - val_wine_quality_loss: 1.1068 - val_wine_type_loss: 0.1509 - val_wine_quality_root_mean_squared_error: 1.0520 - val_wine_type_accuracy: 0.9416\n",
            "Epoch 92/180\n",
            "116/116 [==============================] - 0s 3ms/step - loss: 0.9663 - wine_quality_loss: 0.8014 - wine_type_loss: 0.1649 - wine_quality_root_mean_squared_error: 0.8952 - wine_type_accuracy: 0.9429 - val_loss: 0.7594 - val_wine_quality_loss: 0.6091 - val_wine_type_loss: 0.1504 - val_wine_quality_root_mean_squared_error: 0.7804 - val_wine_type_accuracy: 0.9416\n",
            "Epoch 93/180\n",
            "116/116 [==============================] - 0s 3ms/step - loss: 0.9618 - wine_quality_loss: 0.7940 - wine_type_loss: 0.1679 - wine_quality_root_mean_squared_error: 0.8910 - wine_type_accuracy: 0.9402 - val_loss: 0.6453 - val_wine_quality_loss: 0.4947 - val_wine_type_loss: 0.1506 - val_wine_quality_root_mean_squared_error: 0.7033 - val_wine_type_accuracy: 0.9416\n",
            "Epoch 94/180\n",
            "116/116 [==============================] - 0s 3ms/step - loss: 0.9729 - wine_quality_loss: 0.8095 - wine_type_loss: 0.1635 - wine_quality_root_mean_squared_error: 0.8997 - wine_type_accuracy: 0.9424 - val_loss: 1.2654 - val_wine_quality_loss: 1.1137 - val_wine_type_loss: 0.1517 - val_wine_quality_root_mean_squared_error: 1.0553 - val_wine_type_accuracy: 0.9392\n",
            "Epoch 95/180\n",
            "116/116 [==============================] - 0s 3ms/step - loss: 0.9626 - wine_quality_loss: 0.7986 - wine_type_loss: 0.1640 - wine_quality_root_mean_squared_error: 0.8937 - wine_type_accuracy: 0.9405 - val_loss: 0.6993 - val_wine_quality_loss: 0.5490 - val_wine_type_loss: 0.1504 - val_wine_quality_root_mean_squared_error: 0.7409 - val_wine_type_accuracy: 0.9416\n",
            "Epoch 96/180\n",
            "116/116 [==============================] - 0s 3ms/step - loss: 0.9199 - wine_quality_loss: 0.7571 - wine_type_loss: 0.1628 - wine_quality_root_mean_squared_error: 0.8701 - wine_type_accuracy: 0.9427 - val_loss: 1.5504 - val_wine_quality_loss: 1.4008 - val_wine_type_loss: 0.1496 - val_wine_quality_root_mean_squared_error: 1.1835 - val_wine_type_accuracy: 0.9432\n",
            "Epoch 97/180\n",
            "116/116 [==============================] - 0s 3ms/step - loss: 0.9522 - wine_quality_loss: 0.7912 - wine_type_loss: 0.1610 - wine_quality_root_mean_squared_error: 0.8895 - wine_type_accuracy: 0.9429 - val_loss: 0.5751 - val_wine_quality_loss: 0.4150 - val_wine_type_loss: 0.1601 - val_wine_quality_root_mean_squared_error: 0.6442 - val_wine_type_accuracy: 0.9424\n",
            "Epoch 98/180\n",
            "116/116 [==============================] - 0s 3ms/step - loss: 0.9085 - wine_quality_loss: 0.7455 - wine_type_loss: 0.1630 - wine_quality_root_mean_squared_error: 0.8634 - wine_type_accuracy: 0.9429 - val_loss: 1.4655 - val_wine_quality_loss: 1.3126 - val_wine_type_loss: 0.1530 - val_wine_quality_root_mean_squared_error: 1.1457 - val_wine_type_accuracy: 0.9400\n",
            "Epoch 99/180\n",
            "116/116 [==============================] - 0s 3ms/step - loss: 0.9490 - wine_quality_loss: 0.7876 - wine_type_loss: 0.1614 - wine_quality_root_mean_squared_error: 0.8875 - wine_type_accuracy: 0.9429 - val_loss: 0.9808 - val_wine_quality_loss: 0.8173 - val_wine_type_loss: 0.1635 - val_wine_quality_root_mean_squared_error: 0.9040 - val_wine_type_accuracy: 0.9416\n",
            "Epoch 100/180\n",
            "116/116 [==============================] - 0s 3ms/step - loss: 0.9340 - wine_quality_loss: 0.7711 - wine_type_loss: 0.1630 - wine_quality_root_mean_squared_error: 0.8781 - wine_type_accuracy: 0.9424 - val_loss: 1.4199 - val_wine_quality_loss: 1.2638 - val_wine_type_loss: 0.1561 - val_wine_quality_root_mean_squared_error: 1.1242 - val_wine_type_accuracy: 0.9376\n",
            "Epoch 101/180\n",
            "116/116 [==============================] - 0s 3ms/step - loss: 0.9429 - wine_quality_loss: 0.7829 - wine_type_loss: 0.1600 - wine_quality_root_mean_squared_error: 0.8848 - wine_type_accuracy: 0.9421 - val_loss: 0.8520 - val_wine_quality_loss: 0.6916 - val_wine_type_loss: 0.1605 - val_wine_quality_root_mean_squared_error: 0.8316 - val_wine_type_accuracy: 0.9424\n",
            "Epoch 102/180\n",
            "116/116 [==============================] - 0s 3ms/step - loss: 0.9115 - wine_quality_loss: 0.7505 - wine_type_loss: 0.1610 - wine_quality_root_mean_squared_error: 0.8663 - wine_type_accuracy: 0.9421 - val_loss: 0.5933 - val_wine_quality_loss: 0.4448 - val_wine_type_loss: 0.1486 - val_wine_quality_root_mean_squared_error: 0.6669 - val_wine_type_accuracy: 0.9432\n",
            "Epoch 103/180\n",
            "116/116 [==============================] - 0s 3ms/step - loss: 0.9597 - wine_quality_loss: 0.8008 - wine_type_loss: 0.1589 - wine_quality_root_mean_squared_error: 0.8949 - wine_type_accuracy: 0.9456 - val_loss: 0.6265 - val_wine_quality_loss: 0.4767 - val_wine_type_loss: 0.1498 - val_wine_quality_root_mean_squared_error: 0.6904 - val_wine_type_accuracy: 0.9408\n",
            "Epoch 104/180\n",
            "116/116 [==============================] - 0s 4ms/step - loss: 0.9018 - wine_quality_loss: 0.7425 - wine_type_loss: 0.1592 - wine_quality_root_mean_squared_error: 0.8617 - wine_type_accuracy: 0.9435 - val_loss: 1.2137 - val_wine_quality_loss: 1.0529 - val_wine_type_loss: 0.1608 - val_wine_quality_root_mean_squared_error: 1.0261 - val_wine_type_accuracy: 0.9448\n",
            "Epoch 105/180\n",
            "116/116 [==============================] - 0s 3ms/step - loss: 0.9068 - wine_quality_loss: 0.7474 - wine_type_loss: 0.1594 - wine_quality_root_mean_squared_error: 0.8645 - wine_type_accuracy: 0.9419 - val_loss: 1.8107 - val_wine_quality_loss: 1.6634 - val_wine_type_loss: 0.1473 - val_wine_quality_root_mean_squared_error: 1.2897 - val_wine_type_accuracy: 0.9432\n",
            "Epoch 106/180\n",
            "116/116 [==============================] - 0s 3ms/step - loss: 0.9192 - wine_quality_loss: 0.7599 - wine_type_loss: 0.1593 - wine_quality_root_mean_squared_error: 0.8717 - wine_type_accuracy: 0.9438 - val_loss: 0.5246 - val_wine_quality_loss: 0.3777 - val_wine_type_loss: 0.1469 - val_wine_quality_root_mean_squared_error: 0.6146 - val_wine_type_accuracy: 0.9424\n",
            "Epoch 107/180\n",
            "116/116 [==============================] - 0s 3ms/step - loss: 0.9511 - wine_quality_loss: 0.7927 - wine_type_loss: 0.1584 - wine_quality_root_mean_squared_error: 0.8904 - wine_type_accuracy: 0.9459 - val_loss: 0.7696 - val_wine_quality_loss: 0.6229 - val_wine_type_loss: 0.1467 - val_wine_quality_root_mean_squared_error: 0.7892 - val_wine_type_accuracy: 0.9440\n",
            "Epoch 108/180\n",
            "116/116 [==============================] - 0s 3ms/step - loss: 0.9088 - wine_quality_loss: 0.7499 - wine_type_loss: 0.1589 - wine_quality_root_mean_squared_error: 0.8660 - wine_type_accuracy: 0.9424 - val_loss: 0.6171 - val_wine_quality_loss: 0.4703 - val_wine_type_loss: 0.1467 - val_wine_quality_root_mean_squared_error: 0.6858 - val_wine_type_accuracy: 0.9432\n",
            "Epoch 109/180\n",
            "116/116 [==============================] - 0s 3ms/step - loss: 0.8997 - wine_quality_loss: 0.7414 - wine_type_loss: 0.1583 - wine_quality_root_mean_squared_error: 0.8611 - wine_type_accuracy: 0.9427 - val_loss: 0.5332 - val_wine_quality_loss: 0.3865 - val_wine_type_loss: 0.1468 - val_wine_quality_root_mean_squared_error: 0.6217 - val_wine_type_accuracy: 0.9432\n",
            "Epoch 110/180\n",
            "116/116 [==============================] - 0s 3ms/step - loss: 0.9184 - wine_quality_loss: 0.7607 - wine_type_loss: 0.1577 - wine_quality_root_mean_squared_error: 0.8722 - wine_type_accuracy: 0.9432 - val_loss: 0.5243 - val_wine_quality_loss: 0.3741 - val_wine_type_loss: 0.1502 - val_wine_quality_root_mean_squared_error: 0.6116 - val_wine_type_accuracy: 0.9400\n",
            "Epoch 111/180\n",
            "116/116 [==============================] - 0s 3ms/step - loss: 0.9043 - wine_quality_loss: 0.7470 - wine_type_loss: 0.1572 - wine_quality_root_mean_squared_error: 0.8643 - wine_type_accuracy: 0.9448 - val_loss: 0.8965 - val_wine_quality_loss: 0.7502 - val_wine_type_loss: 0.1463 - val_wine_quality_root_mean_squared_error: 0.8661 - val_wine_type_accuracy: 0.9424\n",
            "Epoch 112/180\n",
            "116/116 [==============================] - 0s 3ms/step - loss: 0.8746 - wine_quality_loss: 0.7165 - wine_type_loss: 0.1582 - wine_quality_root_mean_squared_error: 0.8464 - wine_type_accuracy: 0.9459 - val_loss: 0.9344 - val_wine_quality_loss: 0.7880 - val_wine_type_loss: 0.1464 - val_wine_quality_root_mean_squared_error: 0.8877 - val_wine_type_accuracy: 0.9432\n",
            "Epoch 113/180\n",
            "116/116 [==============================] - 0s 3ms/step - loss: 0.8983 - wine_quality_loss: 0.7404 - wine_type_loss: 0.1579 - wine_quality_root_mean_squared_error: 0.8605 - wine_type_accuracy: 0.9432 - val_loss: 0.5839 - val_wine_quality_loss: 0.4297 - val_wine_type_loss: 0.1542 - val_wine_quality_root_mean_squared_error: 0.6555 - val_wine_type_accuracy: 0.9457\n",
            "Epoch 114/180\n",
            "116/116 [==============================] - 0s 3ms/step - loss: 0.8957 - wine_quality_loss: 0.7388 - wine_type_loss: 0.1569 - wine_quality_root_mean_squared_error: 0.8595 - wine_type_accuracy: 0.9451 - val_loss: 0.8703 - val_wine_quality_loss: 0.7210 - val_wine_type_loss: 0.1493 - val_wine_quality_root_mean_squared_error: 0.8491 - val_wine_type_accuracy: 0.9424\n",
            "Epoch 115/180\n",
            "116/116 [==============================] - 0s 3ms/step - loss: 0.8889 - wine_quality_loss: 0.7316 - wine_type_loss: 0.1574 - wine_quality_root_mean_squared_error: 0.8553 - wine_type_accuracy: 0.9470 - val_loss: 1.6526 - val_wine_quality_loss: 1.5070 - val_wine_type_loss: 0.1456 - val_wine_quality_root_mean_squared_error: 1.2276 - val_wine_type_accuracy: 0.9440\n",
            "Epoch 116/180\n",
            "116/116 [==============================] - 0s 3ms/step - loss: 0.8730 - wine_quality_loss: 0.7168 - wine_type_loss: 0.1562 - wine_quality_root_mean_squared_error: 0.8466 - wine_type_accuracy: 0.9451 - val_loss: 0.5327 - val_wine_quality_loss: 0.3874 - val_wine_type_loss: 0.1453 - val_wine_quality_root_mean_squared_error: 0.6224 - val_wine_type_accuracy: 0.9424\n",
            "Epoch 117/180\n",
            "116/116 [==============================] - 0s 3ms/step - loss: 0.9018 - wine_quality_loss: 0.7453 - wine_type_loss: 0.1565 - wine_quality_root_mean_squared_error: 0.8633 - wine_type_accuracy: 0.9465 - val_loss: 0.6353 - val_wine_quality_loss: 0.4850 - val_wine_type_loss: 0.1503 - val_wine_quality_root_mean_squared_error: 0.6964 - val_wine_type_accuracy: 0.9432\n",
            "Epoch 118/180\n",
            "116/116 [==============================] - 0s 3ms/step - loss: 0.8725 - wine_quality_loss: 0.7165 - wine_type_loss: 0.1561 - wine_quality_root_mean_squared_error: 0.8464 - wine_type_accuracy: 0.9448 - val_loss: 1.6533 - val_wine_quality_loss: 1.5085 - val_wine_type_loss: 0.1448 - val_wine_quality_root_mean_squared_error: 1.2282 - val_wine_type_accuracy: 0.9440\n",
            "Epoch 119/180\n",
            "116/116 [==============================] - 0s 3ms/step - loss: 0.8877 - wine_quality_loss: 0.7338 - wine_type_loss: 0.1539 - wine_quality_root_mean_squared_error: 0.8566 - wine_type_accuracy: 0.9465 - val_loss: 0.7211 - val_wine_quality_loss: 0.5210 - val_wine_type_loss: 0.2000 - val_wine_quality_root_mean_squared_error: 0.7218 - val_wine_type_accuracy: 0.9303\n",
            "Epoch 120/180\n",
            "116/116 [==============================] - 0s 3ms/step - loss: 0.8556 - wine_quality_loss: 0.7014 - wine_type_loss: 0.1543 - wine_quality_root_mean_squared_error: 0.8375 - wine_type_accuracy: 0.9475 - val_loss: 0.8963 - val_wine_quality_loss: 0.7269 - val_wine_type_loss: 0.1695 - val_wine_quality_root_mean_squared_error: 0.8526 - val_wine_type_accuracy: 0.9335\n",
            "Epoch 121/180\n",
            "116/116 [==============================] - 0s 3ms/step - loss: 0.8515 - wine_quality_loss: 0.6965 - wine_type_loss: 0.1550 - wine_quality_root_mean_squared_error: 0.8346 - wine_type_accuracy: 0.9448 - val_loss: 0.5321 - val_wine_quality_loss: 0.3857 - val_wine_type_loss: 0.1464 - val_wine_quality_root_mean_squared_error: 0.6210 - val_wine_type_accuracy: 0.9457\n",
            "Epoch 122/180\n",
            "116/116 [==============================] - 0s 3ms/step - loss: 0.8733 - wine_quality_loss: 0.7177 - wine_type_loss: 0.1556 - wine_quality_root_mean_squared_error: 0.8472 - wine_type_accuracy: 0.9456 - val_loss: 0.5923 - val_wine_quality_loss: 0.4496 - val_wine_type_loss: 0.1426 - val_wine_quality_root_mean_squared_error: 0.6705 - val_wine_type_accuracy: 0.9457\n",
            "Epoch 123/180\n",
            "116/116 [==============================] - 0s 4ms/step - loss: 0.8629 - wine_quality_loss: 0.7080 - wine_type_loss: 0.1549 - wine_quality_root_mean_squared_error: 0.8414 - wine_type_accuracy: 0.9456 - val_loss: 1.0972 - val_wine_quality_loss: 0.9548 - val_wine_type_loss: 0.1424 - val_wine_quality_root_mean_squared_error: 0.9771 - val_wine_type_accuracy: 0.9440\n",
            "Epoch 124/180\n",
            "116/116 [==============================] - 0s 3ms/step - loss: 0.8439 - wine_quality_loss: 0.6911 - wine_type_loss: 0.1527 - wine_quality_root_mean_squared_error: 0.8313 - wine_type_accuracy: 0.9462 - val_loss: 0.7780 - val_wine_quality_loss: 0.6353 - val_wine_type_loss: 0.1427 - val_wine_quality_root_mean_squared_error: 0.7970 - val_wine_type_accuracy: 0.9424\n",
            "Epoch 125/180\n",
            "116/116 [==============================] - 0s 3ms/step - loss: 0.8566 - wine_quality_loss: 0.7031 - wine_type_loss: 0.1535 - wine_quality_root_mean_squared_error: 0.8385 - wine_type_accuracy: 0.9465 - val_loss: 0.5163 - val_wine_quality_loss: 0.3740 - val_wine_type_loss: 0.1423 - val_wine_quality_root_mean_squared_error: 0.6116 - val_wine_type_accuracy: 0.9465\n",
            "Epoch 126/180\n",
            "116/116 [==============================] - 0s 3ms/step - loss: 0.8483 - wine_quality_loss: 0.6950 - wine_type_loss: 0.1533 - wine_quality_root_mean_squared_error: 0.8337 - wine_type_accuracy: 0.9478 - val_loss: 0.6361 - val_wine_quality_loss: 0.4925 - val_wine_type_loss: 0.1436 - val_wine_quality_root_mean_squared_error: 0.7018 - val_wine_type_accuracy: 0.9448\n",
            "Epoch 127/180\n",
            "116/116 [==============================] - 0s 3ms/step - loss: 0.8717 - wine_quality_loss: 0.7183 - wine_type_loss: 0.1534 - wine_quality_root_mean_squared_error: 0.8475 - wine_type_accuracy: 0.9470 - val_loss: 0.5417 - val_wine_quality_loss: 0.3958 - val_wine_type_loss: 0.1458 - val_wine_quality_root_mean_squared_error: 0.6291 - val_wine_type_accuracy: 0.9432\n",
            "Epoch 128/180\n",
            "116/116 [==============================] - 0s 3ms/step - loss: 0.8179 - wine_quality_loss: 0.6652 - wine_type_loss: 0.1527 - wine_quality_root_mean_squared_error: 0.8156 - wine_type_accuracy: 0.9489 - val_loss: 0.5304 - val_wine_quality_loss: 0.3718 - val_wine_type_loss: 0.1585 - val_wine_quality_root_mean_squared_error: 0.6098 - val_wine_type_accuracy: 0.9400\n",
            "Epoch 129/180\n",
            "116/116 [==============================] - 0s 3ms/step - loss: 0.8114 - wine_quality_loss: 0.6583 - wine_type_loss: 0.1530 - wine_quality_root_mean_squared_error: 0.8114 - wine_type_accuracy: 0.9438 - val_loss: 0.6357 - val_wine_quality_loss: 0.4919 - val_wine_type_loss: 0.1438 - val_wine_quality_root_mean_squared_error: 0.7014 - val_wine_type_accuracy: 0.9416\n",
            "Epoch 130/180\n",
            "116/116 [==============================] - 0s 3ms/step - loss: 0.8139 - wine_quality_loss: 0.6600 - wine_type_loss: 0.1538 - wine_quality_root_mean_squared_error: 0.8124 - wine_type_accuracy: 0.9456 - val_loss: 0.5257 - val_wine_quality_loss: 0.3804 - val_wine_type_loss: 0.1452 - val_wine_quality_root_mean_squared_error: 0.6168 - val_wine_type_accuracy: 0.9448\n",
            "Epoch 131/180\n",
            "116/116 [==============================] - 0s 3ms/step - loss: 0.8085 - wine_quality_loss: 0.6548 - wine_type_loss: 0.1537 - wine_quality_root_mean_squared_error: 0.8092 - wine_type_accuracy: 0.9454 - val_loss: 0.8442 - val_wine_quality_loss: 0.7014 - val_wine_type_loss: 0.1429 - val_wine_quality_root_mean_squared_error: 0.8375 - val_wine_type_accuracy: 0.9465\n",
            "Epoch 132/180\n",
            "116/116 [==============================] - 0s 3ms/step - loss: 0.8030 - wine_quality_loss: 0.6484 - wine_type_loss: 0.1546 - wine_quality_root_mean_squared_error: 0.8052 - wine_type_accuracy: 0.9459 - val_loss: 0.8691 - val_wine_quality_loss: 0.7277 - val_wine_type_loss: 0.1414 - val_wine_quality_root_mean_squared_error: 0.8530 - val_wine_type_accuracy: 0.9440\n",
            "Epoch 133/180\n",
            "116/116 [==============================] - 0s 3ms/step - loss: 0.7882 - wine_quality_loss: 0.6368 - wine_type_loss: 0.1514 - wine_quality_root_mean_squared_error: 0.7980 - wine_type_accuracy: 0.9478 - val_loss: 0.5789 - val_wine_quality_loss: 0.4367 - val_wine_type_loss: 0.1421 - val_wine_quality_root_mean_squared_error: 0.6608 - val_wine_type_accuracy: 0.9440\n",
            "Epoch 134/180\n",
            "116/116 [==============================] - 0s 3ms/step - loss: 0.7917 - wine_quality_loss: 0.6404 - wine_type_loss: 0.1513 - wine_quality_root_mean_squared_error: 0.8002 - wine_type_accuracy: 0.9478 - val_loss: 0.6853 - val_wine_quality_loss: 0.5225 - val_wine_type_loss: 0.1628 - val_wine_quality_root_mean_squared_error: 0.7228 - val_wine_type_accuracy: 0.9465\n",
            "Epoch 135/180\n",
            "116/116 [==============================] - 0s 3ms/step - loss: 0.8204 - wine_quality_loss: 0.6695 - wine_type_loss: 0.1509 - wine_quality_root_mean_squared_error: 0.8183 - wine_type_accuracy: 0.9462 - val_loss: 0.5452 - val_wine_quality_loss: 0.3965 - val_wine_type_loss: 0.1487 - val_wine_quality_root_mean_squared_error: 0.6297 - val_wine_type_accuracy: 0.9416\n",
            "Epoch 136/180\n",
            "116/116 [==============================] - 0s 3ms/step - loss: 0.8034 - wine_quality_loss: 0.6530 - wine_type_loss: 0.1504 - wine_quality_root_mean_squared_error: 0.8081 - wine_type_accuracy: 0.9478 - val_loss: 0.6697 - val_wine_quality_loss: 0.5271 - val_wine_type_loss: 0.1426 - val_wine_quality_root_mean_squared_error: 0.7260 - val_wine_type_accuracy: 0.9440\n",
            "Epoch 137/180\n",
            "116/116 [==============================] - 0s 3ms/step - loss: 0.8043 - wine_quality_loss: 0.6524 - wine_type_loss: 0.1519 - wine_quality_root_mean_squared_error: 0.8077 - wine_type_accuracy: 0.9470 - val_loss: 0.9673 - val_wine_quality_loss: 0.8103 - val_wine_type_loss: 0.1570 - val_wine_quality_root_mean_squared_error: 0.9002 - val_wine_type_accuracy: 0.9440\n",
            "Epoch 138/180\n",
            "116/116 [==============================] - 0s 3ms/step - loss: 0.7998 - wine_quality_loss: 0.6472 - wine_type_loss: 0.1526 - wine_quality_root_mean_squared_error: 0.8045 - wine_type_accuracy: 0.9481 - val_loss: 0.6314 - val_wine_quality_loss: 0.4876 - val_wine_type_loss: 0.1438 - val_wine_quality_root_mean_squared_error: 0.6983 - val_wine_type_accuracy: 0.9448\n",
            "Epoch 139/180\n",
            "116/116 [==============================] - 0s 3ms/step - loss: 0.7843 - wine_quality_loss: 0.6334 - wine_type_loss: 0.1510 - wine_quality_root_mean_squared_error: 0.7959 - wine_type_accuracy: 0.9470 - val_loss: 0.8448 - val_wine_quality_loss: 0.6903 - val_wine_type_loss: 0.1545 - val_wine_quality_root_mean_squared_error: 0.8309 - val_wine_type_accuracy: 0.9408\n",
            "Epoch 140/180\n",
            "116/116 [==============================] - 0s 3ms/step - loss: 0.8111 - wine_quality_loss: 0.6610 - wine_type_loss: 0.1501 - wine_quality_root_mean_squared_error: 0.8130 - wine_type_accuracy: 0.9470 - val_loss: 0.7471 - val_wine_quality_loss: 0.5894 - val_wine_type_loss: 0.1577 - val_wine_quality_root_mean_squared_error: 0.7677 - val_wine_type_accuracy: 0.9448\n",
            "Epoch 141/180\n",
            "116/116 [==============================] - 0s 3ms/step - loss: 0.8051 - wine_quality_loss: 0.6543 - wine_type_loss: 0.1507 - wine_quality_root_mean_squared_error: 0.8089 - wine_type_accuracy: 0.9470 - val_loss: 0.5223 - val_wine_quality_loss: 0.3807 - val_wine_type_loss: 0.1416 - val_wine_quality_root_mean_squared_error: 0.6170 - val_wine_type_accuracy: 0.9465\n",
            "Epoch 142/180\n",
            "116/116 [==============================] - 0s 3ms/step - loss: 0.7757 - wine_quality_loss: 0.6251 - wine_type_loss: 0.1506 - wine_quality_root_mean_squared_error: 0.7906 - wine_type_accuracy: 0.9473 - val_loss: 0.6523 - val_wine_quality_loss: 0.5125 - val_wine_type_loss: 0.1398 - val_wine_quality_root_mean_squared_error: 0.7159 - val_wine_type_accuracy: 0.9465\n",
            "Epoch 143/180\n",
            "116/116 [==============================] - 0s 3ms/step - loss: 0.8048 - wine_quality_loss: 0.6545 - wine_type_loss: 0.1503 - wine_quality_root_mean_squared_error: 0.8090 - wine_type_accuracy: 0.9467 - val_loss: 0.6576 - val_wine_quality_loss: 0.5154 - val_wine_type_loss: 0.1422 - val_wine_quality_root_mean_squared_error: 0.7179 - val_wine_type_accuracy: 0.9448\n",
            "Epoch 144/180\n",
            "116/116 [==============================] - 0s 3ms/step - loss: 0.7662 - wine_quality_loss: 0.6158 - wine_type_loss: 0.1504 - wine_quality_root_mean_squared_error: 0.7847 - wine_type_accuracy: 0.9478 - val_loss: 0.9041 - val_wine_quality_loss: 0.7488 - val_wine_type_loss: 0.1553 - val_wine_quality_root_mean_squared_error: 0.8653 - val_wine_type_accuracy: 0.9473\n",
            "Epoch 145/180\n",
            "116/116 [==============================] - 0s 3ms/step - loss: 0.7858 - wine_quality_loss: 0.6366 - wine_type_loss: 0.1492 - wine_quality_root_mean_squared_error: 0.7979 - wine_type_accuracy: 0.9470 - val_loss: 0.8145 - val_wine_quality_loss: 0.6714 - val_wine_type_loss: 0.1431 - val_wine_quality_root_mean_squared_error: 0.8194 - val_wine_type_accuracy: 0.9457\n",
            "Epoch 146/180\n",
            "116/116 [==============================] - 0s 3ms/step - loss: 0.7569 - wine_quality_loss: 0.6079 - wine_type_loss: 0.1490 - wine_quality_root_mean_squared_error: 0.7797 - wine_type_accuracy: 0.9481 - val_loss: 0.7127 - val_wine_quality_loss: 0.5712 - val_wine_type_loss: 0.1414 - val_wine_quality_root_mean_squared_error: 0.7558 - val_wine_type_accuracy: 0.9432\n",
            "Epoch 147/180\n",
            "116/116 [==============================] - 0s 3ms/step - loss: 0.7516 - wine_quality_loss: 0.6015 - wine_type_loss: 0.1502 - wine_quality_root_mean_squared_error: 0.7756 - wine_type_accuracy: 0.9446 - val_loss: 0.5270 - val_wine_quality_loss: 0.3800 - val_wine_type_loss: 0.1469 - val_wine_quality_root_mean_squared_error: 0.6165 - val_wine_type_accuracy: 0.9489\n",
            "Epoch 148/180\n",
            "116/116 [==============================] - 0s 3ms/step - loss: 0.7556 - wine_quality_loss: 0.6060 - wine_type_loss: 0.1496 - wine_quality_root_mean_squared_error: 0.7785 - wine_type_accuracy: 0.9459 - val_loss: 0.6521 - val_wine_quality_loss: 0.5112 - val_wine_type_loss: 0.1409 - val_wine_quality_root_mean_squared_error: 0.7150 - val_wine_type_accuracy: 0.9457\n",
            "Epoch 149/180\n",
            "116/116 [==============================] - 0s 3ms/step - loss: 0.7955 - wine_quality_loss: 0.6464 - wine_type_loss: 0.1491 - wine_quality_root_mean_squared_error: 0.8040 - wine_type_accuracy: 0.9484 - val_loss: 0.6643 - val_wine_quality_loss: 0.5240 - val_wine_type_loss: 0.1403 - val_wine_quality_root_mean_squared_error: 0.7239 - val_wine_type_accuracy: 0.9465\n",
            "Epoch 150/180\n",
            "116/116 [==============================] - 0s 3ms/step - loss: 0.7787 - wine_quality_loss: 0.6306 - wine_type_loss: 0.1481 - wine_quality_root_mean_squared_error: 0.7941 - wine_type_accuracy: 0.9508 - val_loss: 0.6878 - val_wine_quality_loss: 0.5473 - val_wine_type_loss: 0.1405 - val_wine_quality_root_mean_squared_error: 0.7398 - val_wine_type_accuracy: 0.9448\n",
            "Epoch 151/180\n",
            "116/116 [==============================] - 0s 3ms/step - loss: 0.7498 - wine_quality_loss: 0.5993 - wine_type_loss: 0.1505 - wine_quality_root_mean_squared_error: 0.7741 - wine_type_accuracy: 0.9484 - val_loss: 0.5618 - val_wine_quality_loss: 0.4160 - val_wine_type_loss: 0.1458 - val_wine_quality_root_mean_squared_error: 0.6450 - val_wine_type_accuracy: 0.9432\n",
            "Epoch 152/180\n",
            "116/116 [==============================] - 0s 3ms/step - loss: 0.7562 - wine_quality_loss: 0.6083 - wine_type_loss: 0.1479 - wine_quality_root_mean_squared_error: 0.7799 - wine_type_accuracy: 0.9489 - val_loss: 0.5697 - val_wine_quality_loss: 0.4279 - val_wine_type_loss: 0.1418 - val_wine_quality_root_mean_squared_error: 0.6541 - val_wine_type_accuracy: 0.9457\n",
            "Epoch 153/180\n",
            "116/116 [==============================] - 0s 3ms/step - loss: 0.7937 - wine_quality_loss: 0.6453 - wine_type_loss: 0.1484 - wine_quality_root_mean_squared_error: 0.8033 - wine_type_accuracy: 0.9489 - val_loss: 0.6188 - val_wine_quality_loss: 0.4768 - val_wine_type_loss: 0.1420 - val_wine_quality_root_mean_squared_error: 0.6905 - val_wine_type_accuracy: 0.9465\n",
            "Epoch 154/180\n",
            "116/116 [==============================] - 0s 3ms/step - loss: 0.7614 - wine_quality_loss: 0.6134 - wine_type_loss: 0.1480 - wine_quality_root_mean_squared_error: 0.7832 - wine_type_accuracy: 0.9508 - val_loss: 0.8688 - val_wine_quality_loss: 0.7211 - val_wine_type_loss: 0.1477 - val_wine_quality_root_mean_squared_error: 0.8492 - val_wine_type_accuracy: 0.9481\n",
            "Epoch 155/180\n",
            "116/116 [==============================] - 0s 3ms/step - loss: 0.7637 - wine_quality_loss: 0.6149 - wine_type_loss: 0.1488 - wine_quality_root_mean_squared_error: 0.7841 - wine_type_accuracy: 0.9489 - val_loss: 1.5964 - val_wine_quality_loss: 1.4543 - val_wine_type_loss: 0.1420 - val_wine_quality_root_mean_squared_error: 1.2060 - val_wine_type_accuracy: 0.9448\n",
            "Epoch 156/180\n",
            "116/116 [==============================] - 0s 3ms/step - loss: 0.7491 - wine_quality_loss: 0.6007 - wine_type_loss: 0.1484 - wine_quality_root_mean_squared_error: 0.7750 - wine_type_accuracy: 0.9492 - val_loss: 0.7538 - val_wine_quality_loss: 0.6098 - val_wine_type_loss: 0.1440 - val_wine_quality_root_mean_squared_error: 0.7809 - val_wine_type_accuracy: 0.9457\n",
            "Epoch 157/180\n",
            "116/116 [==============================] - 0s 3ms/step - loss: 0.7760 - wine_quality_loss: 0.6280 - wine_type_loss: 0.1481 - wine_quality_root_mean_squared_error: 0.7924 - wine_type_accuracy: 0.9489 - val_loss: 0.7675 - val_wine_quality_loss: 0.6264 - val_wine_type_loss: 0.1412 - val_wine_quality_root_mean_squared_error: 0.7914 - val_wine_type_accuracy: 0.9465\n",
            "Epoch 158/180\n",
            "116/116 [==============================] - 0s 3ms/step - loss: 0.7589 - wine_quality_loss: 0.6103 - wine_type_loss: 0.1487 - wine_quality_root_mean_squared_error: 0.7812 - wine_type_accuracy: 0.9475 - val_loss: 0.5564 - val_wine_quality_loss: 0.3968 - val_wine_type_loss: 0.1596 - val_wine_quality_root_mean_squared_error: 0.6299 - val_wine_type_accuracy: 0.9457\n",
            "Epoch 159/180\n",
            "116/116 [==============================] - 0s 3ms/step - loss: 0.7532 - wine_quality_loss: 0.6035 - wine_type_loss: 0.1497 - wine_quality_root_mean_squared_error: 0.7768 - wine_type_accuracy: 0.9470 - val_loss: 0.8627 - val_wine_quality_loss: 0.7241 - val_wine_type_loss: 0.1386 - val_wine_quality_root_mean_squared_error: 0.8509 - val_wine_type_accuracy: 0.9473\n",
            "Epoch 160/180\n",
            "116/116 [==============================] - 0s 3ms/step - loss: 0.7623 - wine_quality_loss: 0.6144 - wine_type_loss: 0.1479 - wine_quality_root_mean_squared_error: 0.7838 - wine_type_accuracy: 0.9481 - val_loss: 0.8319 - val_wine_quality_loss: 0.6910 - val_wine_type_loss: 0.1410 - val_wine_quality_root_mean_squared_error: 0.8312 - val_wine_type_accuracy: 0.9465\n",
            "Epoch 161/180\n",
            "116/116 [==============================] - 0s 3ms/step - loss: 0.7448 - wine_quality_loss: 0.5988 - wine_type_loss: 0.1461 - wine_quality_root_mean_squared_error: 0.7738 - wine_type_accuracy: 0.9494 - val_loss: 0.5308 - val_wine_quality_loss: 0.3917 - val_wine_type_loss: 0.1391 - val_wine_quality_root_mean_squared_error: 0.6259 - val_wine_type_accuracy: 0.9440\n",
            "Epoch 162/180\n",
            "116/116 [==============================] - 0s 3ms/step - loss: 0.7469 - wine_quality_loss: 0.5995 - wine_type_loss: 0.1474 - wine_quality_root_mean_squared_error: 0.7743 - wine_type_accuracy: 0.9478 - val_loss: 0.5086 - val_wine_quality_loss: 0.3698 - val_wine_type_loss: 0.1388 - val_wine_quality_root_mean_squared_error: 0.6081 - val_wine_type_accuracy: 0.9473\n",
            "Epoch 163/180\n",
            "116/116 [==============================] - 0s 3ms/step - loss: 0.7517 - wine_quality_loss: 0.6035 - wine_type_loss: 0.1482 - wine_quality_root_mean_squared_error: 0.7769 - wine_type_accuracy: 0.9467 - val_loss: 0.8594 - val_wine_quality_loss: 0.7209 - val_wine_type_loss: 0.1385 - val_wine_quality_root_mean_squared_error: 0.8490 - val_wine_type_accuracy: 0.9465\n",
            "Epoch 164/180\n",
            "116/116 [==============================] - 0s 3ms/step - loss: 0.7531 - wine_quality_loss: 0.6058 - wine_type_loss: 0.1473 - wine_quality_root_mean_squared_error: 0.7784 - wine_type_accuracy: 0.9511 - val_loss: 0.9060 - val_wine_quality_loss: 0.7634 - val_wine_type_loss: 0.1425 - val_wine_quality_root_mean_squared_error: 0.8737 - val_wine_type_accuracy: 0.9465\n",
            "Epoch 165/180\n",
            "116/116 [==============================] - 0s 3ms/step - loss: 0.7394 - wine_quality_loss: 0.5923 - wine_type_loss: 0.1471 - wine_quality_root_mean_squared_error: 0.7696 - wine_type_accuracy: 0.9500 - val_loss: 0.7126 - val_wine_quality_loss: 0.5683 - val_wine_type_loss: 0.1444 - val_wine_quality_root_mean_squared_error: 0.7538 - val_wine_type_accuracy: 0.9473\n",
            "Epoch 166/180\n",
            "116/116 [==============================] - 0s 3ms/step - loss: 0.7235 - wine_quality_loss: 0.5765 - wine_type_loss: 0.1470 - wine_quality_root_mean_squared_error: 0.7593 - wine_type_accuracy: 0.9500 - val_loss: 0.8973 - val_wine_quality_loss: 0.7599 - val_wine_type_loss: 0.1374 - val_wine_quality_root_mean_squared_error: 0.8717 - val_wine_type_accuracy: 0.9489\n",
            "Epoch 167/180\n",
            "116/116 [==============================] - 0s 3ms/step - loss: 0.7675 - wine_quality_loss: 0.6199 - wine_type_loss: 0.1476 - wine_quality_root_mean_squared_error: 0.7873 - wine_type_accuracy: 0.9502 - val_loss: 0.9945 - val_wine_quality_loss: 0.8536 - val_wine_type_loss: 0.1409 - val_wine_quality_root_mean_squared_error: 0.9239 - val_wine_type_accuracy: 0.9473\n",
            "Epoch 168/180\n",
            "116/116 [==============================] - 0s 3ms/step - loss: 0.7367 - wine_quality_loss: 0.5902 - wine_type_loss: 0.1465 - wine_quality_root_mean_squared_error: 0.7682 - wine_type_accuracy: 0.9511 - val_loss: 0.6993 - val_wine_quality_loss: 0.5593 - val_wine_type_loss: 0.1400 - val_wine_quality_root_mean_squared_error: 0.7479 - val_wine_type_accuracy: 0.9448\n",
            "Epoch 169/180\n",
            "116/116 [==============================] - 0s 3ms/step - loss: 0.7423 - wine_quality_loss: 0.5954 - wine_type_loss: 0.1469 - wine_quality_root_mean_squared_error: 0.7716 - wine_type_accuracy: 0.9511 - val_loss: 0.8411 - val_wine_quality_loss: 0.7014 - val_wine_type_loss: 0.1397 - val_wine_quality_root_mean_squared_error: 0.8375 - val_wine_type_accuracy: 0.9465\n",
            "Epoch 170/180\n",
            "116/116 [==============================] - 0s 3ms/step - loss: 0.7186 - wine_quality_loss: 0.5716 - wine_type_loss: 0.1470 - wine_quality_root_mean_squared_error: 0.7560 - wine_type_accuracy: 0.9478 - val_loss: 0.6165 - val_wine_quality_loss: 0.4744 - val_wine_type_loss: 0.1420 - val_wine_quality_root_mean_squared_error: 0.6888 - val_wine_type_accuracy: 0.9457\n",
            "Epoch 171/180\n",
            "116/116 [==============================] - 0s 3ms/step - loss: 0.7382 - wine_quality_loss: 0.5913 - wine_type_loss: 0.1470 - wine_quality_root_mean_squared_error: 0.7689 - wine_type_accuracy: 0.9513 - val_loss: 0.5317 - val_wine_quality_loss: 0.3932 - val_wine_type_loss: 0.1384 - val_wine_quality_root_mean_squared_error: 0.6271 - val_wine_type_accuracy: 0.9448\n",
            "Epoch 172/180\n",
            "116/116 [==============================] - 0s 3ms/step - loss: 0.7410 - wine_quality_loss: 0.5942 - wine_type_loss: 0.1468 - wine_quality_root_mean_squared_error: 0.7709 - wine_type_accuracy: 0.9494 - val_loss: 0.5076 - val_wine_quality_loss: 0.3686 - val_wine_type_loss: 0.1391 - val_wine_quality_root_mean_squared_error: 0.6071 - val_wine_type_accuracy: 0.9457\n",
            "Epoch 173/180\n",
            "116/116 [==============================] - 0s 3ms/step - loss: 0.7246 - wine_quality_loss: 0.5765 - wine_type_loss: 0.1480 - wine_quality_root_mean_squared_error: 0.7593 - wine_type_accuracy: 0.9481 - val_loss: 1.0113 - val_wine_quality_loss: 0.8680 - val_wine_type_loss: 0.1433 - val_wine_quality_root_mean_squared_error: 0.9317 - val_wine_type_accuracy: 0.9448\n",
            "Epoch 174/180\n",
            "116/116 [==============================] - 0s 3ms/step - loss: 0.7212 - wine_quality_loss: 0.5748 - wine_type_loss: 0.1464 - wine_quality_root_mean_squared_error: 0.7581 - wine_type_accuracy: 0.9486 - val_loss: 0.6136 - val_wine_quality_loss: 0.4733 - val_wine_type_loss: 0.1402 - val_wine_quality_root_mean_squared_error: 0.6880 - val_wine_type_accuracy: 0.9457\n",
            "Epoch 175/180\n",
            "116/116 [==============================] - 0s 3ms/step - loss: 0.7277 - wine_quality_loss: 0.5815 - wine_type_loss: 0.1462 - wine_quality_root_mean_squared_error: 0.7626 - wine_type_accuracy: 0.9475 - val_loss: 1.1113 - val_wine_quality_loss: 0.9732 - val_wine_type_loss: 0.1381 - val_wine_quality_root_mean_squared_error: 0.9865 - val_wine_type_accuracy: 0.9457\n",
            "Epoch 176/180\n",
            "116/116 [==============================] - 0s 3ms/step - loss: 0.7249 - wine_quality_loss: 0.5786 - wine_type_loss: 0.1463 - wine_quality_root_mean_squared_error: 0.7606 - wine_type_accuracy: 0.9494 - val_loss: 0.5162 - val_wine_quality_loss: 0.3779 - val_wine_type_loss: 0.1383 - val_wine_quality_root_mean_squared_error: 0.6148 - val_wine_type_accuracy: 0.9497\n",
            "Epoch 177/180\n",
            "116/116 [==============================] - 0s 3ms/step - loss: 0.7169 - wine_quality_loss: 0.5716 - wine_type_loss: 0.1454 - wine_quality_root_mean_squared_error: 0.7560 - wine_type_accuracy: 0.9494 - val_loss: 0.6566 - val_wine_quality_loss: 0.5174 - val_wine_type_loss: 0.1392 - val_wine_quality_root_mean_squared_error: 0.7193 - val_wine_type_accuracy: 0.9465\n",
            "Epoch 178/180\n",
            "116/116 [==============================] - 0s 3ms/step - loss: 0.7447 - wine_quality_loss: 0.5974 - wine_type_loss: 0.1473 - wine_quality_root_mean_squared_error: 0.7729 - wine_type_accuracy: 0.9492 - val_loss: 0.9431 - val_wine_quality_loss: 0.8063 - val_wine_type_loss: 0.1368 - val_wine_quality_root_mean_squared_error: 0.8979 - val_wine_type_accuracy: 0.9489\n",
            "Epoch 179/180\n",
            "116/116 [==============================] - 0s 3ms/step - loss: 0.7214 - wine_quality_loss: 0.5755 - wine_type_loss: 0.1459 - wine_quality_root_mean_squared_error: 0.7586 - wine_type_accuracy: 0.9511 - val_loss: 0.9390 - val_wine_quality_loss: 0.8024 - val_wine_type_loss: 0.1366 - val_wine_quality_root_mean_squared_error: 0.8957 - val_wine_type_accuracy: 0.9473\n",
            "Epoch 180/180\n",
            "116/116 [==============================] - 0s 3ms/step - loss: 0.7474 - wine_quality_loss: 0.6020 - wine_type_loss: 0.1454 - wine_quality_root_mean_squared_error: 0.7759 - wine_type_accuracy: 0.9500 - val_loss: 0.5858 - val_wine_quality_loss: 0.4486 - val_wine_type_loss: 0.1372 - val_wine_quality_root_mean_squared_error: 0.6698 - val_wine_type_accuracy: 0.9489\n"
          ],
          "name": "stdout"
        }
      ]
    },
    {
      "cell_type": "code",
      "metadata": {
        "id": "070IFvs8hxHh"
      },
      "source": [
        "predictions = model.predict(test_x)\n",
        "quality_pred = predictions[0]\n",
        "type_pred = predictions[1]"
      ],
      "execution_count": 43,
      "outputs": []
    },
    {
      "cell_type": "code",
      "metadata": {
        "id": "Mkv0bU24m2Ff"
      },
      "source": [
        "def plot_metrics(metric_name, title, ylim=5):\n",
        "    plt.title(title)\n",
        "    plt.ylim(0,ylim)\n",
        "    plt.plot(history.history[metric_name],color='blue',label=metric_name)\n",
        "    plt.plot(history.history['val_' + metric_name],color='green',label='val_' + metric_name)"
      ],
      "execution_count": 44,
      "outputs": []
    },
    {
      "cell_type": "code",
      "metadata": {
        "id": "egT8-Ov_m8MS"
      },
      "source": [
        "def plot_confusion_matrix(y_true, y_pred, title='', labels=[0,1]):\n",
        "    cm = confusion_matrix(y_true, y_pred)\n",
        "    fig = plt.figure()\n",
        "    ax = fig.add_subplot(111)\n",
        "    cax = ax.matshow(cm)\n",
        "    plt.title('Confusion matrix of the classifier')\n",
        "    fig.colorbar(cax)\n",
        "    ax.set_xticklabels([''] + labels)\n",
        "    ax.set_yticklabels([''] + labels)\n",
        "    plt.xlabel('Predicted')\n",
        "    plt.ylabel('True')\n",
        "    fmt = 'd'\n",
        "    thresh = cm.max() / 2.\n",
        "    for i, j in itertools.product(range(cm.shape[0]), range(cm.shape[1])):\n",
        "          plt.text(j, i, format(cm[i, j], fmt),\n",
        "                  horizontalalignment=\"center\",\n",
        "                  color=\"black\" if cm[i, j] > thresh else \"white\")\n",
        "    plt.show()"
      ],
      "execution_count": 45,
      "outputs": []
    },
    {
      "cell_type": "code",
      "metadata": {
        "id": "KZMbcZK8nPPQ"
      },
      "source": [
        "def plot_diff(y_true, y_pred, title = '' ):\n",
        "    plt.scatter(y_true, y_pred)\n",
        "    plt.title(title)\n",
        "    plt.xlabel('True Values')\n",
        "    plt.ylabel('Predictions')\n",
        "    plt.axis('equal')\n",
        "    plt.axis('square')\n",
        "    plt.plot([-100, 100], [-100, 100])\n",
        "    return plt"
      ],
      "execution_count": 46,
      "outputs": []
    },
    {
      "cell_type": "code",
      "metadata": {
        "colab": {
          "base_uri": "https://localhost:8080/",
          "height": 281
        },
        "id": "215izfTFnTvQ",
        "outputId": "8ce58d4e-cb2e-47c2-cbdd-75b40d45d58f"
      },
      "source": [
        "plot_metrics('wine_quality_root_mean_squared_error', 'RMSE', ylim=2)"
      ],
      "execution_count": 47,
      "outputs": [
        {
          "output_type": "display_data",
          "data": {
            "image/png": "[encoded data removed]",
            "text/plain": [
              "<Figure size 432x288 with 1 Axes>"
            ]
          },
          "metadata": {
            "tags": [],
            "needs_background": "light"
          }
        }
      ]
    },
    {
      "cell_type": "code",
      "metadata": {
        "colab": {
          "base_uri": "https://localhost:8080/",
          "height": 281
        },
        "id": "_J7pg3ubncie",
        "outputId": "4dcabd07-81f1-46d9-dfb3-ece904c5df42"
      },
      "source": [
        "plot_metrics('wine_type_loss', 'Wine Type Loss', ylim=0.2)"
      ],
      "execution_count": 48,
      "outputs": [
        {
          "output_type": "display_data",
          "data": {
            "image/png": "[encoded data removed]",
            "text/plain": [
              "<Figure size 432x288 with 1 Axes>"
            ]
          },
          "metadata": {
            "tags": [],
            "needs_background": "light"
          }
        }
      ]
    },
    {
      "cell_type": "code",
      "metadata": {
        "colab": {
          "base_uri": "https://localhost:8080/",
          "height": 289
        },
        "id": "t6Z0yjw0nnI6",
        "outputId": "6f4dd0b0-3af2-41ca-8a27-a1775fde0b1e"
      },
      "source": [
        "plot_confusion_matrix(test_Y[1], np.round(type_pred), title='Wine Type', labels = [0, 1])"
      ],
      "execution_count": 49,
      "outputs": [
        {
          "output_type": "display_data",
          "data": {
            "image/png": "[encoded data removed]",
            "text/plain": [
              "<Figure size 432x288 with 2 Axes>"
            ]
          },
          "metadata": {
            "tags": [],
            "needs_background": "light"
          }
        }
      ]
    },
    {
      "cell_type": "code",
      "metadata": {
        "colab": {
          "base_uri": "https://localhost:8080/",
          "height": 295
        },
        "id": "oju5PVV4nwUF",
        "outputId": "4d88df07-c71d-4dd0-fb13-6b35687039fd"
      },
      "source": [
        "scatter_plot = plot_diff(test_Y[0], quality_pred, title='Type')"
      ],
      "execution_count": 50,
      "outputs": [
        {
          "output_type": "display_data",
          "data": {
            "image/png": "[encoded data removed]",
            "text/plain": [
              "<Figure size 432x288 with 1 Axes>"
            ]
          },
          "metadata": {
            "tags": [],
            "needs_background": "light"
          }
        }
      ]
    },
    {
      "cell_type": "code",
      "metadata": {
        "id": "7QXYvQ3cpdq8"
      },
      "source": [
        ""
      ],
      "execution_count": null,
      "outputs": []
    }
  ]
}